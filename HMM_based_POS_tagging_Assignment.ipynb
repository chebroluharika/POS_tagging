{
 "cells": [
  {
   "cell_type": "markdown",
   "metadata": {},
   "source": [
    "## POS tagging using modified Viterbi"
   ]
  },
  {
   "cell_type": "markdown",
   "metadata": {},
   "source": [
    "### Data Preparation"
   ]
  },
  {
   "cell_type": "code",
   "execution_count": 1,
   "metadata": {},
   "outputs": [],
   "source": [
    "#Importing libraries\n",
    "import nltk, re, pprint\n",
    "import numpy as np\n",
    "import pandas as pd\n",
    "import requests\n",
    "import matplotlib.pyplot as plt\n",
    "import seaborn as sns\n",
    "import pprint, time\n",
    "import random\n",
    "from sklearn.model_selection import train_test_split\n",
    "from nltk.tokenize import word_tokenize\n",
    "import codecs"
   ]
  },
  {
   "cell_type": "code",
   "execution_count": 4,
   "metadata": {},
   "outputs": [
    {
     "name": "stderr",
     "output_type": "stream",
     "text": [
      "[nltk_data] Downloading package treebank to\n",
      "[nltk_data]     C:\\Users\\chebrolb\\AppData\\Roaming\\nltk_data...\n",
      "[nltk_data]   Unzipping corpora\\treebank.zip.\n"
     ]
    },
    {
     "data": {
      "text/plain": [
       "True"
      ]
     },
     "execution_count": 4,
     "metadata": {},
     "output_type": "execute_result"
    }
   ],
   "source": [
    "nltk.download('treebank')"
   ]
  },
  {
   "cell_type": "code",
   "execution_count": 6,
   "metadata": {},
   "outputs": [
    {
     "name": "stderr",
     "output_type": "stream",
     "text": [
      "[nltk_data] Downloading package universal_tagset to\n",
      "[nltk_data]     C:\\Users\\chebrolb\\AppData\\Roaming\\nltk_data...\n",
      "[nltk_data]   Unzipping taggers\\universal_tagset.zip.\n"
     ]
    },
    {
     "data": {
      "text/plain": [
       "True"
      ]
     },
     "execution_count": 6,
     "metadata": {},
     "output_type": "execute_result"
    }
   ],
   "source": [
    "nltk.download('universal_tagset')"
   ]
  },
  {
   "cell_type": "code",
   "execution_count": 7,
   "metadata": {},
   "outputs": [],
   "source": [
    "# reading the Treebank tagged sentences with universal tagset\n",
    "nltk_data = list(nltk.corpus.treebank.tagged_sents(tagset='universal'))"
   ]
  },
  {
   "cell_type": "code",
   "execution_count": 8,
   "metadata": {},
   "outputs": [
    {
     "name": "stdout",
     "output_type": "stream",
     "text": [
      "[[('Pierre', 'NOUN'), ('Vinken', 'NOUN'), (',', '.'), ('61', 'NUM'), ('years', 'NOUN'), ('old', 'ADJ'), (',', '.'), ('will', 'VERB'), ('join', 'VERB'), ('the', 'DET'), ('board', 'NOUN'), ('as', 'ADP'), ('a', 'DET'), ('nonexecutive', 'ADJ'), ('director', 'NOUN'), ('Nov.', 'NOUN'), ('29', 'NUM'), ('.', '.')], [('Mr.', 'NOUN'), ('Vinken', 'NOUN'), ('is', 'VERB'), ('chairman', 'NOUN'), ('of', 'ADP'), ('Elsevier', 'NOUN'), ('N.V.', 'NOUN'), (',', '.'), ('the', 'DET'), ('Dutch', 'NOUN'), ('publishing', 'VERB'), ('group', 'NOUN'), ('.', '.')], [('Rudolph', 'NOUN'), ('Agnew', 'NOUN'), (',', '.'), ('55', 'NUM'), ('years', 'NOUN'), ('old', 'ADJ'), ('and', 'CONJ'), ('former', 'ADJ'), ('chairman', 'NOUN'), ('of', 'ADP'), ('Consolidated', 'NOUN'), ('Gold', 'NOUN'), ('Fields', 'NOUN'), ('PLC', 'NOUN'), (',', '.'), ('was', 'VERB'), ('named', 'VERB'), ('*-1', 'X'), ('a', 'DET'), ('nonexecutive', 'ADJ'), ('director', 'NOUN'), ('of', 'ADP'), ('this', 'DET'), ('British', 'ADJ'), ('industrial', 'ADJ'), ('conglomerate', 'NOUN'), ('.', '.')], [('A', 'DET'), ('form', 'NOUN'), ('of', 'ADP'), ('asbestos', 'NOUN'), ('once', 'ADV'), ('used', 'VERB'), ('*', 'X'), ('*', 'X'), ('to', 'PRT'), ('make', 'VERB'), ('Kent', 'NOUN'), ('cigarette', 'NOUN'), ('filters', 'NOUN'), ('has', 'VERB'), ('caused', 'VERB'), ('a', 'DET'), ('high', 'ADJ'), ('percentage', 'NOUN'), ('of', 'ADP'), ('cancer', 'NOUN'), ('deaths', 'NOUN'), ('among', 'ADP'), ('a', 'DET'), ('group', 'NOUN'), ('of', 'ADP'), ('workers', 'NOUN'), ('exposed', 'VERB'), ('*', 'X'), ('to', 'PRT'), ('it', 'PRON'), ('more', 'ADV'), ('than', 'ADP'), ('30', 'NUM'), ('years', 'NOUN'), ('ago', 'ADP'), (',', '.'), ('researchers', 'NOUN'), ('reported', 'VERB'), ('0', 'X'), ('*T*-1', 'X'), ('.', '.')], [('The', 'DET'), ('asbestos', 'NOUN'), ('fiber', 'NOUN'), (',', '.'), ('crocidolite', 'NOUN'), (',', '.'), ('is', 'VERB'), ('unusually', 'ADV'), ('resilient', 'ADJ'), ('once', 'ADP'), ('it', 'PRON'), ('enters', 'VERB'), ('the', 'DET'), ('lungs', 'NOUN'), (',', '.'), ('with', 'ADP'), ('even', 'ADV'), ('brief', 'ADJ'), ('exposures', 'NOUN'), ('to', 'PRT'), ('it', 'PRON'), ('causing', 'VERB'), ('symptoms', 'NOUN'), ('that', 'DET'), ('*T*-1', 'X'), ('show', 'VERB'), ('up', 'PRT'), ('decades', 'NOUN'), ('later', 'ADJ'), (',', '.'), ('researchers', 'NOUN'), ('said', 'VERB'), ('0', 'X'), ('*T*-2', 'X'), ('.', '.')], [('Lorillard', 'NOUN'), ('Inc.', 'NOUN'), (',', '.'), ('the', 'DET'), ('unit', 'NOUN'), ('of', 'ADP'), ('New', 'ADJ'), ('York-based', 'ADJ'), ('Loews', 'NOUN'), ('Corp.', 'NOUN'), ('that', 'DET'), ('*T*-2', 'X'), ('makes', 'VERB'), ('Kent', 'NOUN'), ('cigarettes', 'NOUN'), (',', '.'), ('stopped', 'VERB'), ('using', 'VERB'), ('crocidolite', 'NOUN'), ('in', 'ADP'), ('its', 'PRON'), ('Micronite', 'NOUN'), ('cigarette', 'NOUN'), ('filters', 'NOUN'), ('in', 'ADP'), ('1956', 'NUM'), ('.', '.')], [('Although', 'ADP'), ('preliminary', 'ADJ'), ('findings', 'NOUN'), ('were', 'VERB'), ('reported', 'VERB'), ('*-2', 'X'), ('more', 'ADV'), ('than', 'ADP'), ('a', 'DET'), ('year', 'NOUN'), ('ago', 'ADP'), (',', '.'), ('the', 'DET'), ('latest', 'ADJ'), ('results', 'NOUN'), ('appear', 'VERB'), ('in', 'ADP'), ('today', 'NOUN'), (\"'s\", 'PRT'), ('New', 'NOUN'), ('England', 'NOUN'), ('Journal', 'NOUN'), ('of', 'ADP'), ('Medicine', 'NOUN'), (',', '.'), ('a', 'DET'), ('forum', 'NOUN'), ('likely', 'ADJ'), ('*', 'X'), ('to', 'PRT'), ('bring', 'VERB'), ('new', 'ADJ'), ('attention', 'NOUN'), ('to', 'PRT'), ('the', 'DET'), ('problem', 'NOUN'), ('.', '.')], [('A', 'DET'), ('Lorillard', 'NOUN'), ('spokewoman', 'NOUN'), ('said', 'VERB'), (',', '.'), ('``', '.'), ('This', 'DET'), ('is', 'VERB'), ('an', 'DET'), ('old', 'ADJ'), ('story', 'NOUN'), ('.', '.')], [('We', 'PRON'), (\"'re\", 'VERB'), ('talking', 'VERB'), ('about', 'ADP'), ('years', 'NOUN'), ('ago', 'ADP'), ('before', 'ADP'), ('anyone', 'NOUN'), ('heard', 'VERB'), ('of', 'ADP'), ('asbestos', 'NOUN'), ('having', 'VERB'), ('any', 'DET'), ('questionable', 'ADJ'), ('properties', 'NOUN'), ('.', '.')], [('There', 'DET'), ('is', 'VERB'), ('no', 'DET'), ('asbestos', 'NOUN'), ('in', 'ADP'), ('our', 'PRON'), ('products', 'NOUN'), ('now', 'ADV'), ('.', '.'), (\"''\", '.')], [('Neither', 'DET'), ('Lorillard', 'NOUN'), ('nor', 'CONJ'), ('the', 'DET'), ('researchers', 'NOUN'), ('who', 'PRON'), ('*T*-3', 'X'), ('studied', 'VERB'), ('the', 'DET'), ('workers', 'NOUN'), ('were', 'VERB'), ('aware', 'ADJ'), ('of', 'ADP'), ('any', 'DET'), ('research', 'NOUN'), ('on', 'ADP'), ('smokers', 'NOUN'), ('of', 'ADP'), ('the', 'DET'), ('Kent', 'NOUN'), ('cigarettes', 'NOUN'), ('.', '.')], [('``', '.'), ('We', 'PRON'), ('have', 'VERB'), ('no', 'DET'), ('useful', 'ADJ'), ('information', 'NOUN'), ('on', 'ADP'), ('whether', 'ADP'), ('users', 'NOUN'), ('are', 'VERB'), ('at', 'ADP'), ('risk', 'NOUN'), (',', '.'), (\"''\", '.'), ('said', 'VERB'), ('*T*-1', 'X'), ('James', 'NOUN'), ('A.', 'NOUN'), ('Talcott', 'NOUN'), ('of', 'ADP'), ('Boston', 'NOUN'), (\"'s\", 'PRT'), ('Dana-Farber', 'NOUN'), ('Cancer', 'NOUN'), ('Institute', 'NOUN'), ('.', '.')], [('Dr.', 'NOUN'), ('Talcott', 'NOUN'), ('led', 'VERB'), ('a', 'DET'), ('team', 'NOUN'), ('of', 'ADP'), ('researchers', 'NOUN'), ('from', 'ADP'), ('the', 'DET'), ('National', 'NOUN'), ('Cancer', 'NOUN'), ('Institute', 'NOUN'), ('and', 'CONJ'), ('the', 'DET'), ('medical', 'ADJ'), ('schools', 'NOUN'), ('of', 'ADP'), ('Harvard', 'NOUN'), ('University', 'NOUN'), ('and', 'CONJ'), ('Boston', 'NOUN'), ('University', 'NOUN'), ('.', '.')], [('The', 'DET'), ('Lorillard', 'NOUN'), ('spokeswoman', 'NOUN'), ('said', 'VERB'), ('0', 'X'), ('asbestos', 'NOUN'), ('was', 'VERB'), ('used', 'VERB'), ('*-1', 'X'), ('in', 'ADP'), ('``', '.'), ('very', 'ADV'), ('modest', 'ADJ'), ('amounts', 'NOUN'), (\"''\", '.'), ('in', 'ADP'), ('*', 'X'), ('making', 'VERB'), ('paper', 'NOUN'), ('for', 'ADP'), ('the', 'DET'), ('filters', 'NOUN'), ('in', 'ADP'), ('the', 'DET'), ('early', 'ADJ'), ('1950s', 'NUM'), ('and', 'CONJ'), ('replaced', 'VERB'), ('*-1', 'X'), ('with', 'ADP'), ('a', 'DET'), ('different', 'ADJ'), ('type', 'NOUN'), ('of', 'ADP'), ('filter', 'NOUN'), ('in', 'ADP'), ('1956', 'NUM'), ('.', '.')], [('From', 'ADP'), ('1953', 'NUM'), ('to', 'PRT'), ('1955', 'NUM'), (',', '.'), ('9.8', 'NUM'), ('billion', 'NUM'), ('Kent', 'NOUN'), ('cigarettes', 'NOUN'), ('with', 'ADP'), ('the', 'DET'), ('filters', 'NOUN'), ('were', 'VERB'), ('sold', 'VERB'), ('*-3', 'X'), (',', '.'), ('the', 'DET'), ('company', 'NOUN'), ('said', 'VERB'), ('0', 'X'), ('*T*-1', 'X'), ('.', '.')], [('Among', 'ADP'), ('33', 'NUM'), ('men', 'NOUN'), ('who', 'PRON'), ('*T*-4', 'X'), ('worked', 'VERB'), ('closely', 'ADV'), ('with', 'ADP'), ('the', 'DET'), ('substance', 'NOUN'), (',', '.'), ('28', 'NUM'), ('*ICH*-1', 'X'), ('have', 'VERB'), ('died', 'VERB'), ('--', '.'), ('more', 'ADJ'), ('than', 'ADP'), ('three', 'NUM'), ('times', 'NOUN'), ('the', 'DET'), ('expected', 'VERB'), ('number', 'NOUN'), ('.', '.')], [('Four', 'NUM'), ('of', 'ADP'), ('the', 'DET'), ('five', 'NUM'), ('surviving', 'VERB'), ('workers', 'NOUN'), ('have', 'VERB'), ('asbestos-related', 'ADJ'), ('diseases', 'NOUN'), (',', '.'), ('including', 'VERB'), ('three', 'NUM'), ('with', 'ADP'), ('recently', 'ADV'), ('diagnosed', 'VERB'), ('cancer', 'NOUN'), ('.', '.')], [('The', 'DET'), ('total', 'NOUN'), ('of', 'ADP'), ('18', 'NUM'), ('deaths', 'NOUN'), ('from', 'ADP'), ('malignant', 'ADJ'), ('mesothelioma', 'NOUN'), (',', '.'), ('lung', 'NOUN'), ('cancer', 'NOUN'), ('and', 'CONJ'), ('asbestosis', 'NOUN'), ('was', 'VERB'), ('far', 'ADV'), ('higher', 'ADJ'), ('than', 'ADP'), ('*', 'X'), ('expected', 'VERB'), ('*?*', 'X'), (',', '.'), ('the', 'DET'), ('researchers', 'NOUN'), ('said', 'VERB'), ('0', 'X'), ('*T*-1', 'X'), ('.', '.')], [('``', '.'), ('The', 'DET'), ('morbidity', 'NOUN'), ('rate', 'NOUN'), ('is', 'VERB'), ('a', 'DET'), ('striking', 'ADJ'), ('finding', 'NOUN'), ('among', 'ADP'), ('those', 'DET'), ('of', 'ADP'), ('us', 'PRON'), ('who', 'PRON'), ('*T*-5', 'X'), ('study', 'VERB'), ('asbestos-related', 'ADJ'), ('diseases', 'NOUN'), (',', '.'), (\"''\", '.'), ('said', 'VERB'), ('*T*-1', 'X'), ('Dr.', 'NOUN'), ('Talcott', 'NOUN'), ('.', '.')], [('The', 'DET'), ('percentage', 'NOUN'), ('of', 'ADP'), ('lung', 'NOUN'), ('cancer', 'NOUN'), ('deaths', 'NOUN'), ('among', 'ADP'), ('the', 'DET'), ('workers', 'NOUN'), ('at', 'ADP'), ('the', 'DET'), ('West', 'NOUN'), ('Groton', 'NOUN'), (',', '.'), ('Mass.', 'NOUN'), (',', '.'), ('paper', 'NOUN'), ('factory', 'NOUN'), ('appears', 'VERB'), ('*-1', 'X'), ('to', 'PRT'), ('be', 'VERB'), ('the', 'DET'), ('highest', 'ADJ'), ('for', 'ADP'), ('any', 'DET'), ('asbestos', 'NOUN'), ('workers', 'NOUN'), ('studied', 'VERB'), ('*', 'X'), ('in', 'ADP'), ('Western', 'ADJ'), ('industrialized', 'VERB'), ('countries', 'NOUN'), (',', '.'), ('he', 'PRON'), ('said', 'VERB'), ('0', 'X'), ('*T*-2', 'X'), ('.', '.')], [('The', 'DET'), ('plant', 'NOUN'), (',', '.'), ('which', 'DET'), ('*T*-1', 'X'), ('is', 'VERB'), ('owned', 'VERB'), ('*-4', 'X'), ('by', 'ADP'), ('Hollingsworth', 'NOUN'), ('&', 'CONJ'), ('Vose', 'NOUN'), ('Co.', 'NOUN'), (',', '.'), ('was', 'VERB'), ('under', 'ADP'), ('contract', 'NOUN'), ('*ICH*-2', 'X'), ('with', 'ADP'), ('Lorillard', 'NOUN'), ('*', 'X'), ('to', 'PRT'), ('make', 'VERB'), ('the', 'DET'), ('cigarette', 'NOUN'), ('filters', 'NOUN'), ('.', '.')], [('The', 'DET'), ('finding', 'NOUN'), ('probably', 'ADV'), ('will', 'VERB'), ('support', 'VERB'), ('those', 'DET'), ('who', 'PRON'), ('*T*-6', 'X'), ('argue', 'VERB'), ('that', 'ADP'), ('the', 'DET'), ('U.S.', 'NOUN'), ('should', 'VERB'), ('regulate', 'VERB'), ('the', 'DET'), ('class', 'NOUN'), ('of', 'ADP'), ('asbestos', 'NOUN'), ('including', 'VERB'), ('crocidolite', 'NOUN'), ('more', 'ADV'), ('stringently', 'ADV'), ('than', 'ADP'), ('the', 'DET'), ('common', 'ADJ'), ('kind', 'NOUN'), ('of', 'ADP'), ('asbestos', 'NOUN'), (',', '.'), ('chrysotile', 'NOUN'), (',', '.'), ('found', 'VERB'), ('*', 'X'), ('in', 'ADP'), ('most', 'ADJ'), ('schools', 'NOUN'), ('and', 'CONJ'), ('other', 'ADJ'), ('buildings', 'NOUN'), (',', '.'), ('Dr.', 'NOUN'), ('Talcott', 'NOUN'), ('said', 'VERB'), ('0', 'X'), ('*T*-1', 'X'), ('.', '.')], [('The', 'DET'), ('U.S.', 'NOUN'), ('is', 'VERB'), ('one', 'NUM'), ('of', 'ADP'), ('the', 'DET'), ('few', 'ADJ'), ('industrialized', 'VERB'), ('nations', 'NOUN'), ('that', 'DET'), ('*T*-7', 'X'), ('does', 'VERB'), (\"n't\", 'ADV'), ('have', 'VERB'), ('a', 'DET'), ('higher', 'ADJ'), ('standard', 'NOUN'), ('of', 'ADP'), ('regulation', 'NOUN'), ('for', 'ADP'), ('the', 'DET'), ('smooth', 'ADJ'), (',', '.'), ('needle-like', 'ADJ'), ('fibers', 'NOUN'), ('such', 'ADJ'), ('as', 'ADP'), ('crocidolite', 'NOUN'), ('that', 'DET'), ('*T*-1', 'X'), ('are', 'VERB'), ('classified', 'VERB'), ('*-5', 'X'), ('as', 'ADP'), ('amphobiles', 'NOUN'), (',', '.'), ('according', 'VERB'), ('to', 'PRT'), ('Brooke', 'NOUN'), ('T.', 'NOUN'), ('Mossman', 'NOUN'), (',', '.'), ('a', 'DET'), ('professor', 'NOUN'), ('of', 'ADP'), ('pathlogy', 'NOUN'), ('at', 'ADP'), ('the', 'DET'), ('University', 'NOUN'), ('of', 'ADP'), ('Vermont', 'NOUN'), ('College', 'NOUN'), ('of', 'ADP'), ('Medicine', 'NOUN'), ('.', '.')], [('More', 'ADV'), ('common', 'ADJ'), ('chrysotile', 'NOUN'), ('fibers', 'NOUN'), ('are', 'VERB'), ('curly', 'ADJ'), ('and', 'CONJ'), ('are', 'VERB'), ('more', 'ADV'), ('easily', 'ADV'), ('rejected', 'VERB'), ('*-1', 'X'), ('by', 'ADP'), ('the', 'DET'), ('body', 'NOUN'), (',', '.'), ('Dr.', 'NOUN'), ('Mossman', 'NOUN'), ('explained', 'VERB'), ('0', 'X'), ('*T*-2', 'X'), ('.', '.')], [('In', 'ADP'), ('July', 'NOUN'), (',', '.'), ('the', 'DET'), ('Environmental', 'NOUN'), ('Protection', 'NOUN'), ('Agency', 'NOUN'), ('imposed', 'VERB'), ('a', 'DET'), ('gradual', 'ADJ'), ('ban', 'NOUN'), ('on', 'ADP'), ('virtually', 'ADV'), ('all', 'DET'), ('uses', 'NOUN'), ('of', 'ADP'), ('asbestos', 'NOUN'), ('.', '.')], [('By', 'ADP'), ('1997', 'NUM'), (',', '.'), ('almost', 'ADV'), ('all', 'DET'), ('remaining', 'VERB'), ('uses', 'NOUN'), ('of', 'ADP'), ('cancer-causing', 'ADJ'), ('asbestos', 'NOUN'), ('will', 'VERB'), ('be', 'VERB'), ('outlawed', 'VERB'), ('*-6', 'X'), ('.', '.')], [('About', 'ADP'), ('160', 'NUM'), ('workers', 'NOUN'), ('at', 'ADP'), ('a', 'DET'), ('factory', 'NOUN'), ('that', 'DET'), ('*T*-8', 'X'), ('made', 'VERB'), ('paper', 'NOUN'), ('for', 'ADP'), ('the', 'DET'), ('Kent', 'NOUN'), ('filters', 'NOUN'), ('were', 'VERB'), ('exposed', 'VERB'), ('*-7', 'X'), ('to', 'PRT'), ('asbestos', 'NOUN'), ('in', 'ADP'), ('the', 'DET'), ('1950s', 'NUM'), ('.', '.')], [('Areas', 'NOUN'), ('of', 'ADP'), ('the', 'DET'), ('factory', 'NOUN'), ('*ICH*-2', 'X'), ('were', 'VERB'), ('particularly', 'ADV'), ('dusty', 'ADJ'), ('where', 'ADV'), ('the', 'DET'), ('crocidolite', 'NOUN'), ('was', 'VERB'), ('used', 'VERB'), ('*-8', 'X'), ('*T*-1', 'X'), ('.', '.')], [('Workers', 'NOUN'), ('dumped', 'VERB'), ('large', 'ADJ'), ('burlap', 'NOUN'), ('sacks', 'NOUN'), ('of', 'ADP'), ('the', 'DET'), ('imported', 'VERB'), ('material', 'NOUN'), ('into', 'ADP'), ('a', 'DET'), ('huge', 'ADJ'), ('bin', 'NOUN'), (',', '.'), ('poured', 'VERB'), ('in', 'PRT'), ('cotton', 'NOUN'), ('and', 'CONJ'), ('acetate', 'NOUN'), ('fibers', 'NOUN'), ('and', 'CONJ'), ('mechanically', 'ADV'), ('mixed', 'VERB'), ('the', 'DET'), ('dry', 'ADJ'), ('fibers', 'NOUN'), ('in', 'ADP'), ('a', 'DET'), ('process', 'NOUN'), ('used', 'VERB'), ('*', 'X'), ('*', 'X'), ('to', 'PRT'), ('make', 'VERB'), ('filters', 'NOUN'), ('.', '.')], [('Workers', 'NOUN'), ('described', 'VERB'), ('``', '.'), ('clouds', 'NOUN'), ('of', 'ADP'), ('blue', 'ADJ'), ('dust', 'NOUN'), (\"''\", '.'), ('that', 'DET'), ('*T*-1', 'X'), ('hung', 'VERB'), ('over', 'ADP'), ('parts', 'NOUN'), ('of', 'ADP'), ('the', 'DET'), ('factory', 'NOUN'), (',', '.'), ('even', 'ADV'), ('though', 'ADP'), ('exhaust', 'NOUN'), ('fans', 'NOUN'), ('ventilated', 'VERB'), ('the', 'DET'), ('area', 'NOUN'), ('.', '.')], [('``', '.'), ('There', 'DET'), (\"'s\", 'VERB'), ('no', 'DET'), ('question', 'NOUN'), ('that', 'ADP'), ('some', 'DET'), ('of', 'ADP'), ('those', 'DET'), ('workers', 'NOUN'), ('and', 'CONJ'), ('managers', 'NOUN'), ('contracted', 'VERB'), ('asbestos-related', 'ADJ'), ('diseases', 'NOUN'), (',', '.'), (\"''\", '.'), ('said', 'VERB'), ('*T*-1', 'X'), ('Darrell', 'NOUN'), ('Phillips', 'NOUN'), (',', '.'), ('vice', 'NOUN'), ('president', 'NOUN'), ('of', 'ADP'), ('human', 'ADJ'), ('resources', 'NOUN'), ('for', 'ADP'), ('Hollingsworth', 'NOUN'), ('&', 'CONJ'), ('Vose', 'NOUN'), ('.', '.')], [('``', '.'), ('But', 'CONJ'), ('you', 'PRON'), ('have', 'VERB'), ('*-1', 'X'), ('to', 'PRT'), ('recognize', 'VERB'), ('that', 'ADP'), ('these', 'DET'), ('events', 'NOUN'), ('took', 'VERB'), ('place', 'NOUN'), ('35', 'NUM'), ('years', 'NOUN'), ('ago', 'ADP'), ('.', '.')], [('It', 'PRON'), ('has', 'VERB'), ('no', 'DET'), ('bearing', 'NOUN'), ('on', 'ADP'), ('our', 'PRON'), ('work', 'NOUN'), ('force', 'NOUN'), ('today', 'NOUN'), ('.', '.')], [('Yields', 'NOUN'), ('on', 'ADP'), ('money-market', 'ADJ'), ('mutual', 'ADJ'), ('funds', 'NOUN'), ('continued', 'VERB'), ('*-1', 'X'), ('to', 'PRT'), ('slide', 'VERB'), (',', '.'), ('amid', 'ADP'), ('signs', 'NOUN'), ('that', 'ADP'), ('portfolio', 'NOUN'), ('managers', 'NOUN'), ('expect', 'VERB'), ('further', 'ADJ'), ('declines', 'NOUN'), ('in', 'ADP'), ('interest', 'NOUN'), ('rates', 'NOUN'), ('.', '.')], [('The', 'DET'), ('average', 'ADJ'), ('seven-day', 'ADJ'), ('compound', 'NOUN'), ('yield', 'NOUN'), ('of', 'ADP'), ('the', 'DET'), ('400', 'NUM'), ('taxable', 'ADJ'), ('funds', 'NOUN'), ('tracked', 'VERB'), ('*', 'X'), ('by', 'ADP'), ('IBC', 'NOUN'), (\"'s\", 'PRT'), ('Money', 'NOUN'), ('Fund', 'NOUN'), ('Report', 'NOUN'), ('eased', 'VERB'), ('a', 'DET'), ('fraction', 'NOUN'), ('of', 'ADP'), ('a', 'DET'), ('percentage', 'NOUN'), ('point', 'NOUN'), ('to', 'PRT'), ('8.45', 'NUM'), ('%', 'NOUN'), ('from', 'ADP'), ('8.47', 'NUM'), ('%', 'NOUN'), ('for', 'ADP'), ('the', 'DET'), ('week', 'NOUN'), ('ended', 'VERB'), ('Tuesday', 'NOUN'), ('.', '.')], [('Compound', 'NOUN'), ('yields', 'NOUN'), ('assume', 'VERB'), ('reinvestment', 'NOUN'), ('of', 'ADP'), ('dividends', 'NOUN'), ('and', 'CONJ'), ('that', 'ADP'), ('the', 'DET'), ('current', 'ADJ'), ('yield', 'NOUN'), ('continues', 'VERB'), ('for', 'ADP'), ('a', 'DET'), ('year', 'NOUN'), ('.', '.')], [('Average', 'ADJ'), ('maturity', 'NOUN'), ('of', 'ADP'), ('the', 'DET'), ('funds', 'NOUN'), (\"'\", 'PRT'), ('investments', 'NOUN'), ('lengthened', 'VERB'), ('by', 'ADP'), ('a', 'DET'), ('day', 'NOUN'), ('to', 'PRT'), ('41', 'NUM'), ('days', 'NOUN'), (',', '.'), ('the', 'DET'), ('longest', 'ADJ'), ('since', 'ADP'), ('early', 'ADJ'), ('August', 'NOUN'), (',', '.'), ('according', 'VERB'), ('to', 'PRT'), ('Donoghue', 'NOUN'), (\"'s\", 'PRT'), ('.', '.')], [('Longer', 'ADJ'), ('maturities', 'NOUN'), ('are', 'VERB'), ('thought', 'VERB'), ('*-1', 'X'), ('to', 'PRT'), ('indicate', 'VERB'), ('declining', 'VERB'), ('interest', 'NOUN'), ('rates', 'NOUN'), ('because', 'ADP'), ('they', 'PRON'), ('permit', 'VERB'), ('portfolio', 'NOUN'), ('managers', 'NOUN'), ('to', 'PRT'), ('retain', 'VERB'), ('relatively', 'ADV'), ('higher', 'ADJ'), ('rates', 'NOUN'), ('for', 'ADP'), ('a', 'DET'), ('longer', 'ADJ'), ('period', 'NOUN'), ('.', '.')], [('Shorter', 'ADJ'), ('maturities', 'NOUN'), ('are', 'VERB'), ('considered', 'VERB'), ('*-9', 'X'), ('a', 'DET'), ('sign', 'NOUN'), ('of', 'ADP'), ('rising', 'VERB'), ('rates', 'NOUN'), ('because', 'ADP'), ('portfolio', 'NOUN'), ('managers', 'NOUN'), ('can', 'VERB'), ('capture', 'VERB'), ('higher', 'ADJ'), ('rates', 'NOUN'), ('sooner', 'ADV'), ('.', '.')], [('The', 'DET'), ('average', 'ADJ'), ('maturity', 'NOUN'), ('for', 'ADP'), ('funds', 'NOUN'), ('open', 'ADJ'), ('only', 'ADV'), ('to', 'PRT'), ('institutions', 'NOUN'), (',', '.'), ('considered', 'VERB'), ('by', 'ADP'), ('some', 'DET'), ('*', 'X'), ('to', 'PRT'), ('be', 'VERB'), ('a', 'DET'), ('stronger', 'ADJ'), ('indicator', 'NOUN'), ('because', 'ADP'), ('those', 'DET'), ('managers', 'NOUN'), ('watch', 'VERB'), ('the', 'DET'), ('market', 'NOUN'), ('closely', 'ADV'), (',', '.'), ('reached', 'VERB'), ('a', 'DET'), ('high', 'ADJ'), ('point', 'NOUN'), ('for', 'ADP'), ('the', 'DET'), ('year', 'NOUN'), ('--', '.'), ('33', 'NUM'), ('days', 'NOUN'), ('.', '.')]]\n"
     ]
    }
   ],
   "source": [
    "# first few tagged sentences\n",
    "print(nltk_data[:40])"
   ]
  },
  {
   "cell_type": "code",
   "execution_count": 9,
   "metadata": {},
   "outputs": [
    {
     "name": "stdout",
     "output_type": "stream",
     "text": [
      "3718\n",
      "196\n"
     ]
    }
   ],
   "source": [
    "#set the random seed\n",
    "random.seed(1234)\n",
    "\n",
    "#Splitting into training and test sets\n",
    "train_set, test_set = train_test_split(nltk_data,train_size=0.95)\n",
    "\n",
    "#Get length of training and test sets\n",
    "print(len(train_set))\n",
    "print(len(test_set))"
   ]
  },
  {
   "cell_type": "code",
   "execution_count": 10,
   "metadata": {},
   "outputs": [
    {
     "data": {
      "text/plain": [
       "95596"
      ]
     },
     "execution_count": 10,
     "metadata": {},
     "output_type": "execute_result"
    }
   ],
   "source": [
    "# Getting list of tagged words in training set\n",
    "train_tagged_words = [tup for sent in train_set for tup in sent]\n",
    "\n",
    "# Get length of total tagged words in training set\n",
    "len(train_tagged_words)"
   ]
  },
  {
   "cell_type": "code",
   "execution_count": 11,
   "metadata": {},
   "outputs": [
    {
     "data": {
      "text/plain": [
       "['Mr.',\n",
       " 'Lane',\n",
       " \"'s\",\n",
       " 'final',\n",
       " 'purpose',\n",
       " 'is',\n",
       " \"n't\",\n",
       " '*-1',\n",
       " 'to',\n",
       " 'glamorize']"
      ]
     },
     "execution_count": 11,
     "metadata": {},
     "output_type": "execute_result"
    }
   ],
   "source": [
    "# tokens\n",
    "tokens = [pair[0] for pair in train_tagged_words]\n",
    "tokens[:10]"
   ]
  },
  {
   "cell_type": "code",
   "execution_count": 12,
   "metadata": {},
   "outputs": [
    {
     "name": "stdout",
     "output_type": "stream",
     "text": [
      "12057\n"
     ]
    }
   ],
   "source": [
    "# vocabulary\n",
    "V = set(tokens)\n",
    "print(len(V))"
   ]
  },
  {
   "cell_type": "code",
   "execution_count": 13,
   "metadata": {},
   "outputs": [
    {
     "name": "stdout",
     "output_type": "stream",
     "text": [
      "12\n",
      "{'CONJ', 'VERB', 'NUM', 'DET', 'NOUN', 'ADP', 'PRON', '.', 'X', 'PRT', 'ADJ', 'ADV'}\n"
     ]
    }
   ],
   "source": [
    "# number of pos tags in the training corpus\n",
    "T = set([pair[1] for pair in train_tagged_words])\n",
    "print(len(T))\n",
    "print(T)"
   ]
  },
  {
   "cell_type": "markdown",
   "metadata": {},
   "source": [
    "As expected there are 12 tags which are part of universal tagset"
   ]
  },
  {
   "cell_type": "markdown",
   "metadata": {},
   "source": [
    "### Build the vanilla Viterbi based POS tagger"
   ]
  },
  {
   "cell_type": "code",
   "execution_count": 14,
   "metadata": {},
   "outputs": [],
   "source": [
    "# Create numpy array of no of pos tags by total vocabulary\n",
    "t = len(T)\n",
    "v = len(V)\n",
    "w_given_t = np.zeros((t, v))"
   ]
  },
  {
   "cell_type": "code",
   "execution_count": 15,
   "metadata": {},
   "outputs": [],
   "source": [
    "# compute word given tag: Emission Probability\n",
    "def word_given_tag(word, tag, train_bag = train_tagged_words):\n",
    "    tag_list = [pair for pair in train_bag if pair[1]==tag]\n",
    "    count_tag = len(tag_list)\n",
    "    w_given_tag_list = [pair[0] for pair in tag_list if pair[0]==word]\n",
    "    count_w_given_tag = len(w_given_tag_list)\n",
    "    \n",
    "    return (count_w_given_tag, count_tag)"
   ]
  },
  {
   "cell_type": "code",
   "execution_count": 16,
   "metadata": {},
   "outputs": [],
   "source": [
    "# compute tag given tag: tag2(t2) given tag1 (t1), i.e. Transition Probability\n",
    "\n",
    "def t2_given_t1(t2, t1, train_bag = train_tagged_words):\n",
    "    tags = [pair[1] for pair in train_bag]\n",
    "    count_t1 = len([t for t in tags if t==t1])\n",
    "    count_t2_t1 = 0\n",
    "    for index in range(len(tags)-1):\n",
    "        if tags[index]==t1 and tags[index+1] == t2:\n",
    "            count_t2_t1 += 1\n",
    "    return (count_t2_t1, count_t1)"
   ]
  },
  {
   "cell_type": "code",
   "execution_count": 17,
   "metadata": {},
   "outputs": [],
   "source": [
    "# creating t x t (pos tags x pos tags)transition matrix of tags\n",
    "# each column is t2, each row is t1\n",
    "# thus M(i, j) represents P(tj given ti)\n",
    "\n",
    "tags_matrix = np.zeros((len(T), len(T)), dtype='float32')\n",
    "for i, t1 in enumerate(list(T)):\n",
    "    for j, t2 in enumerate(list(T)): \n",
    "        tags_matrix[i, j] = t2_given_t1(t2, t1)[0]/t2_given_t1(t2, t1)[1]"
   ]
  },
  {
   "cell_type": "code",
   "execution_count": 18,
   "metadata": {},
   "outputs": [
    {
     "data": {
      "text/html": [
       "<div>\n",
       "<style scoped>\n",
       "    .dataframe tbody tr th:only-of-type {\n",
       "        vertical-align: middle;\n",
       "    }\n",
       "\n",
       "    .dataframe tbody tr th {\n",
       "        vertical-align: top;\n",
       "    }\n",
       "\n",
       "    .dataframe thead th {\n",
       "        text-align: right;\n",
       "    }\n",
       "</style>\n",
       "<table border=\"1\" class=\"dataframe\">\n",
       "  <thead>\n",
       "    <tr style=\"text-align: right;\">\n",
       "      <th></th>\n",
       "      <th>CONJ</th>\n",
       "      <th>VERB</th>\n",
       "      <th>NUM</th>\n",
       "      <th>DET</th>\n",
       "      <th>NOUN</th>\n",
       "      <th>ADP</th>\n",
       "      <th>PRON</th>\n",
       "      <th>.</th>\n",
       "      <th>X</th>\n",
       "      <th>PRT</th>\n",
       "      <th>ADJ</th>\n",
       "      <th>ADV</th>\n",
       "    </tr>\n",
       "  </thead>\n",
       "  <tbody>\n",
       "    <tr>\n",
       "      <th>CONJ</th>\n",
       "      <td>0.000463</td>\n",
       "      <td>0.160334</td>\n",
       "      <td>0.042169</td>\n",
       "      <td>0.119092</td>\n",
       "      <td>0.348471</td>\n",
       "      <td>0.051900</td>\n",
       "      <td>0.057924</td>\n",
       "      <td>0.034754</td>\n",
       "      <td>0.007878</td>\n",
       "      <td>0.005097</td>\n",
       "      <td>0.116311</td>\n",
       "      <td>0.055607</td>\n",
       "    </tr>\n",
       "    <tr>\n",
       "      <th>VERB</th>\n",
       "      <td>0.005585</td>\n",
       "      <td>0.169498</td>\n",
       "      <td>0.022962</td>\n",
       "      <td>0.135055</td>\n",
       "      <td>0.109301</td>\n",
       "      <td>0.091149</td>\n",
       "      <td>0.036072</td>\n",
       "      <td>0.035296</td>\n",
       "      <td>0.218525</td>\n",
       "      <td>0.031417</td>\n",
       "      <td>0.064386</td>\n",
       "      <td>0.080754</td>\n",
       "    </tr>\n",
       "    <tr>\n",
       "      <th>NUM</th>\n",
       "      <td>0.013942</td>\n",
       "      <td>0.018392</td>\n",
       "      <td>0.186592</td>\n",
       "      <td>0.003263</td>\n",
       "      <td>0.353604</td>\n",
       "      <td>0.034708</td>\n",
       "      <td>0.001483</td>\n",
       "      <td>0.116583</td>\n",
       "      <td>0.209433</td>\n",
       "      <td>0.025808</td>\n",
       "      <td>0.033225</td>\n",
       "      <td>0.002966</td>\n",
       "    </tr>\n",
       "    <tr>\n",
       "      <th>DET</th>\n",
       "      <td>0.000481</td>\n",
       "      <td>0.040183</td>\n",
       "      <td>0.021776</td>\n",
       "      <td>0.005775</td>\n",
       "      <td>0.637753</td>\n",
       "      <td>0.009504</td>\n",
       "      <td>0.003730</td>\n",
       "      <td>0.017445</td>\n",
       "      <td>0.046439</td>\n",
       "      <td>0.000241</td>\n",
       "      <td>0.204283</td>\n",
       "      <td>0.012392</td>\n",
       "    </tr>\n",
       "    <tr>\n",
       "      <th>NOUN</th>\n",
       "      <td>0.042899</td>\n",
       "      <td>0.146148</td>\n",
       "      <td>0.009602</td>\n",
       "      <td>0.013253</td>\n",
       "      <td>0.263782</td>\n",
       "      <td>0.178131</td>\n",
       "      <td>0.004564</td>\n",
       "      <td>0.240088</td>\n",
       "      <td>0.029098</td>\n",
       "      <td>0.043264</td>\n",
       "      <td>0.012231</td>\n",
       "      <td>0.016940</td>\n",
       "    </tr>\n",
       "    <tr>\n",
       "      <th>ADP</th>\n",
       "      <td>0.000746</td>\n",
       "      <td>0.008316</td>\n",
       "      <td>0.061834</td>\n",
       "      <td>0.325053</td>\n",
       "      <td>0.323028</td>\n",
       "      <td>0.016951</td>\n",
       "      <td>0.068230</td>\n",
       "      <td>0.040085</td>\n",
       "      <td>0.034435</td>\n",
       "      <td>0.001386</td>\n",
       "      <td>0.106610</td>\n",
       "      <td>0.013326</td>\n",
       "    </tr>\n",
       "    <tr>\n",
       "      <th>PRON</th>\n",
       "      <td>0.004237</td>\n",
       "      <td>0.487288</td>\n",
       "      <td>0.007319</td>\n",
       "      <td>0.009630</td>\n",
       "      <td>0.210709</td>\n",
       "      <td>0.023112</td>\n",
       "      <td>0.008089</td>\n",
       "      <td>0.039676</td>\n",
       "      <td>0.090139</td>\n",
       "      <td>0.013097</td>\n",
       "      <td>0.072419</td>\n",
       "      <td>0.034284</td>\n",
       "    </tr>\n",
       "    <tr>\n",
       "      <th>.</th>\n",
       "      <td>0.057834</td>\n",
       "      <td>0.089674</td>\n",
       "      <td>0.081040</td>\n",
       "      <td>0.174042</td>\n",
       "      <td>0.221802</td>\n",
       "      <td>0.090844</td>\n",
       "      <td>0.065659</td>\n",
       "      <td>0.092822</td>\n",
       "      <td>0.027073</td>\n",
       "      <td>0.002518</td>\n",
       "      <td>0.044522</td>\n",
       "      <td>0.052078</td>\n",
       "    </tr>\n",
       "    <tr>\n",
       "      <th>X</th>\n",
       "      <td>0.010324</td>\n",
       "      <td>0.203145</td>\n",
       "      <td>0.002859</td>\n",
       "      <td>0.054956</td>\n",
       "      <td>0.061626</td>\n",
       "      <td>0.144854</td>\n",
       "      <td>0.055909</td>\n",
       "      <td>0.163278</td>\n",
       "      <td>0.075762</td>\n",
       "      <td>0.184562</td>\n",
       "      <td>0.016995</td>\n",
       "      <td>0.025731</td>\n",
       "    </tr>\n",
       "    <tr>\n",
       "      <th>PRT</th>\n",
       "      <td>0.002302</td>\n",
       "      <td>0.404801</td>\n",
       "      <td>0.055903</td>\n",
       "      <td>0.100954</td>\n",
       "      <td>0.247287</td>\n",
       "      <td>0.019402</td>\n",
       "      <td>0.017428</td>\n",
       "      <td>0.041434</td>\n",
       "      <td>0.013482</td>\n",
       "      <td>0.001973</td>\n",
       "      <td>0.085169</td>\n",
       "      <td>0.009865</td>\n",
       "    </tr>\n",
       "    <tr>\n",
       "      <th>ADJ</th>\n",
       "      <td>0.017184</td>\n",
       "      <td>0.012062</td>\n",
       "      <td>0.021315</td>\n",
       "      <td>0.005122</td>\n",
       "      <td>0.699438</td>\n",
       "      <td>0.076669</td>\n",
       "      <td>0.000661</td>\n",
       "      <td>0.065268</td>\n",
       "      <td>0.020654</td>\n",
       "      <td>0.011236</td>\n",
       "      <td>0.065433</td>\n",
       "      <td>0.004957</td>\n",
       "    </tr>\n",
       "    <tr>\n",
       "      <th>ADV</th>\n",
       "      <td>0.007355</td>\n",
       "      <td>0.347041</td>\n",
       "      <td>0.031428</td>\n",
       "      <td>0.066533</td>\n",
       "      <td>0.031428</td>\n",
       "      <td>0.118355</td>\n",
       "      <td>0.015045</td>\n",
       "      <td>0.138415</td>\n",
       "      <td>0.024072</td>\n",
       "      <td>0.013373</td>\n",
       "      <td>0.127382</td>\n",
       "      <td>0.079572</td>\n",
       "    </tr>\n",
       "  </tbody>\n",
       "</table>\n",
       "</div>"
      ],
      "text/plain": [
       "          CONJ      VERB       NUM       DET      NOUN       ADP      PRON  \\\n",
       "CONJ  0.000463  0.160334  0.042169  0.119092  0.348471  0.051900  0.057924   \n",
       "VERB  0.005585  0.169498  0.022962  0.135055  0.109301  0.091149  0.036072   \n",
       "NUM   0.013942  0.018392  0.186592  0.003263  0.353604  0.034708  0.001483   \n",
       "DET   0.000481  0.040183  0.021776  0.005775  0.637753  0.009504  0.003730   \n",
       "NOUN  0.042899  0.146148  0.009602  0.013253  0.263782  0.178131  0.004564   \n",
       "ADP   0.000746  0.008316  0.061834  0.325053  0.323028  0.016951  0.068230   \n",
       "PRON  0.004237  0.487288  0.007319  0.009630  0.210709  0.023112  0.008089   \n",
       ".     0.057834  0.089674  0.081040  0.174042  0.221802  0.090844  0.065659   \n",
       "X     0.010324  0.203145  0.002859  0.054956  0.061626  0.144854  0.055909   \n",
       "PRT   0.002302  0.404801  0.055903  0.100954  0.247287  0.019402  0.017428   \n",
       "ADJ   0.017184  0.012062  0.021315  0.005122  0.699438  0.076669  0.000661   \n",
       "ADV   0.007355  0.347041  0.031428  0.066533  0.031428  0.118355  0.015045   \n",
       "\n",
       "             .         X       PRT       ADJ       ADV  \n",
       "CONJ  0.034754  0.007878  0.005097  0.116311  0.055607  \n",
       "VERB  0.035296  0.218525  0.031417  0.064386  0.080754  \n",
       "NUM   0.116583  0.209433  0.025808  0.033225  0.002966  \n",
       "DET   0.017445  0.046439  0.000241  0.204283  0.012392  \n",
       "NOUN  0.240088  0.029098  0.043264  0.012231  0.016940  \n",
       "ADP   0.040085  0.034435  0.001386  0.106610  0.013326  \n",
       "PRON  0.039676  0.090139  0.013097  0.072419  0.034284  \n",
       ".     0.092822  0.027073  0.002518  0.044522  0.052078  \n",
       "X     0.163278  0.075762  0.184562  0.016995  0.025731  \n",
       "PRT   0.041434  0.013482  0.001973  0.085169  0.009865  \n",
       "ADJ   0.065268  0.020654  0.011236  0.065433  0.004957  \n",
       "ADV   0.138415  0.024072  0.013373  0.127382  0.079572  "
      ]
     },
     "execution_count": 18,
     "metadata": {},
     "output_type": "execute_result"
    }
   ],
   "source": [
    "# convert the matrix to a df for better readability\n",
    "tags_df = pd.DataFrame(tags_matrix, columns = list(T), index=list(T))\n",
    "tags_df"
   ]
  },
  {
   "cell_type": "code",
   "execution_count": 19,
   "metadata": {},
   "outputs": [
    {
     "data": {
      "image/png": "[encoded data removed]",
      "text/plain": [
       "<Figure size 1296x864 with 2 Axes>"
      ]
     },
     "metadata": {
      "needs_background": "light"
     },
     "output_type": "display_data"
    }
   ],
   "source": [
    "# heatmap of tags matrix\n",
    "# T(i, j) indicates P(tag j given tag i)\n",
    "plt.figure(figsize=(18, 12))\n",
    "sns.heatmap(tags_df)\n",
    "plt.show()"
   ]
  },
  {
   "cell_type": "code",
   "execution_count": 20,
   "metadata": {},
   "outputs": [
    {
     "data": {
      "image/png": "[encoded data removed]",
      "text/plain": [
       "<Figure size 1296x864 with 2 Axes>"
      ]
     },
     "metadata": {
      "needs_background": "light"
     },
     "output_type": "display_data"
    }
   ],
   "source": [
    "# frequent tags\n",
    "# filter the df to get P(t2, t1) > 0.5\n",
    "tags_frequent = tags_df[tags_df>0.5]\n",
    "plt.figure(figsize=(18, 12))\n",
    "sns.heatmap(tags_frequent)\n",
    "plt.show()"
   ]
  },
  {
   "cell_type": "markdown",
   "metadata": {},
   "source": [
    "Clearly as expected Noun and Adjective and Noun and Determinent are highly correlated. Most often nouns are followed by adjectives and detectives"
   ]
  },
  {
   "cell_type": "code",
   "execution_count": 21,
   "metadata": {},
   "outputs": [
    {
     "data": {
      "text/plain": [
       "95596"
      ]
     },
     "execution_count": 21,
     "metadata": {},
     "output_type": "execute_result"
    }
   ],
   "source": [
    "#Get total length of tagged words in training corpus\n",
    "len(train_tagged_words)"
   ]
  },
  {
   "cell_type": "code",
   "execution_count": 22,
   "metadata": {},
   "outputs": [],
   "source": [
    "# Viterbi Heuristic\n",
    "def Viterbi(words, train_bag = train_tagged_words):\n",
    "    state = []\n",
    "    T = list(set([pair[1] for pair in train_bag]))\n",
    "    \n",
    "    for key, word in enumerate(words):\n",
    "        #initialise list of probability column for a given observation\n",
    "        p = [] \n",
    "        for tag in T:\n",
    "            if key == 0:\n",
    "                transition_p = tags_df.loc['.', tag]\n",
    "            else:\n",
    "                transition_p = tags_df.loc[state[-1], tag]\n",
    "                \n",
    "            # compute emission and state probabilities\n",
    "            emission_p = word_given_tag(words[key], tag)[0]/word_given_tag(words[key], tag)[1]\n",
    "            state_probability = emission_p * transition_p    \n",
    "            p.append(state_probability)\n",
    "            \n",
    "        pmax = max(p)\n",
    "        # getting state for which probability is maximum\n",
    "        state_max = T[p.index(pmax)] \n",
    "        state.append(state_max)\n",
    "    return list(zip(words, state))"
   ]
  },
  {
   "cell_type": "code",
   "execution_count": 23,
   "metadata": {},
   "outputs": [],
   "source": [
    "# Running on entire test dataset would take more than 3-4hrs. \n",
    "# Let's test our Viterbi algorithm on a few sample sentences of test dataset\n",
    "\n",
    "\n",
    "# list of tagged words in test set\n",
    "test_run_base = [tup for sent in test_set for tup in sent]\n",
    "\n",
    "# list of  words which are untagged in test set\n",
    "test_tagged_words = [tup[0] for sent in test_set for tup in sent]"
   ]
  },
  {
   "cell_type": "code",
   "execution_count": 24,
   "metadata": {},
   "outputs": [],
   "source": [
    "# tagging the test sentences\n",
    "start = time.time()\n",
    "tagged_seq = Viterbi(test_tagged_words)\n",
    "end = time.time()\n",
    "difference = end-start"
   ]
  },
  {
   "cell_type": "code",
   "execution_count": 25,
   "metadata": {},
   "outputs": [
    {
     "name": "stdout",
     "output_type": "stream",
     "text": [
      "731.8522968292236\n"
     ]
    }
   ],
   "source": [
    "#Print total time taken to train the algorithm\n",
    "print(difference)"
   ]
  },
  {
   "cell_type": "code",
   "execution_count": 26,
   "metadata": {},
   "outputs": [
    {
     "name": "stdout",
     "output_type": "stream",
     "text": [
      "0.9023622047244094\n"
     ]
    }
   ],
   "source": [
    "# Get accuracy of model\n",
    "check = [i for i, j in zip(tagged_seq, test_run_base) if i == j] \n",
    "accuracy = len(check)/len(tagged_seq)\n",
    "print(accuracy)"
   ]
  },
  {
   "cell_type": "markdown",
   "metadata": {},
   "source": [
    "We get around 90% of accuracy with the default Viterbi algorithm.\n",
    "\n",
    "Let's compare with the test sentences and see how it tagged the sentences"
   ]
  },
  {
   "cell_type": "code",
   "execution_count": 27,
   "metadata": {},
   "outputs": [
    {
     "name": "stdout",
     "output_type": "stream",
     "text": [
      "Android is a mobile operating system developed by Google.\n",
      "\n",
      "Android has been the best-selling OS worldwide on smartphones since 2011 and on tablets since 2013.\n",
      "\n",
      "Google and Twitter made a deal in 2015 that gave Google access to Twitter's firehose.\n",
      "\n",
      "Twitter is an online news and social networking service on which users post and interact with messages known as tweets.\n",
      "\n",
      "Before entering politics, Donald Trump was a domineering businessman and a television personality.\n",
      "\n",
      "The 2018 FIFA World Cup is the 21st FIFA World Cup, an international football tournament contested once every four years.\n",
      "\n",
      "This is the first World Cup to be held in Eastern Europe and the 11th time that it has been held in Europe.\n",
      "\n",
      "Show me the cheapest round trips from Dallas to Atlanta\n",
      "\n",
      "I would like to see flights from Denver to Philadelphia.\n",
      "\n",
      "Show me the price of the flights leaving Atlanta at about 3 in the afternoon and arriving in San Francisco.\n",
      "\n",
      "NASA invited social media users to experience the launch of ICESAT-2 Satellite.\n",
      "\n",
      "\n",
      "\n",
      "\n",
      "\n",
      "\n",
      "\n"
     ]
    }
   ],
   "source": [
    "#Read the text file\n",
    "lines=[]\n",
    "f = codecs.open(\"Test_sentences.txt\", encoding='utf-8')\n",
    "for line in f:\n",
    "    print(line)\n",
    "    lines.append(line)"
   ]
  },
  {
   "cell_type": "markdown",
   "metadata": {},
   "source": [
    "### Solve the problem of unknown words"
   ]
  },
  {
   "cell_type": "code",
   "execution_count": 28,
   "metadata": {},
   "outputs": [
    {
     "data": {
      "text/plain": [
       "['Android is a mobile operating system developed by Google.\\n',\n",
       " 'Android has been the best-selling OS worldwide on smartphones since 2011 and on tablets since 2013.\\n',\n",
       " \"Google and Twitter made a deal in 2015 that gave Google access to Twitter's firehose.\\n\",\n",
       " 'Twitter is an online news and social networking service on which users post and interact with messages known as tweets.\\n',\n",
       " 'Before entering politics, Donald Trump was a domineering businessman and a television personality.\\n',\n",
       " 'The 2018 FIFA World Cup is the 21st FIFA World Cup, an international football tournament contested once every four years.\\n',\n",
       " 'This is the first World Cup to be held in Eastern Europe and the 11th time that it has been held in Europe.\\n',\n",
       " 'Show me the cheapest round trips from Dallas to Atlanta\\n',\n",
       " 'I would like to see flights from Denver to Philadelphia.\\n',\n",
       " 'Show me the price of the flights leaving Atlanta at about 3 in the afternoon and arriving in San Francisco.\\n',\n",
       " 'NASA invited social media users to experience the launch of ICESAT-2 Satellite.\\n',\n",
       " '\\n',\n",
       " '\\n',\n",
       " '\\n']"
      ]
     },
     "execution_count": 28,
     "metadata": {},
     "output_type": "execute_result"
    }
   ],
   "source": [
    "lines"
   ]
  },
  {
   "cell_type": "code",
   "execution_count": 29,
   "metadata": {},
   "outputs": [
    {
     "data": {
      "text/plain": [
       "['Android is a mobile operating system developed by Google.',\n",
       " 'Android has been the best-selling OS worldwide on smartphones since 2011 and on tablets since 2013.',\n",
       " \"Google and Twitter made a deal in 2015 that gave Google access to Twitter's firehose.\",\n",
       " 'Twitter is an online news and social networking service on which users post and interact with messages known as tweets.',\n",
       " 'Before entering politics, Donald Trump was a domineering businessman and a television personality.',\n",
       " 'The 2018 FIFA World Cup is the 21st FIFA World Cup, an international football tournament contested once every four years.',\n",
       " 'This is the first World Cup to be held in Eastern Europe and the 11th time that it has been held in Europe.',\n",
       " 'Show me the cheapest round trips from Dallas to Atlanta',\n",
       " 'I would like to see flights from Denver to Philadelphia.',\n",
       " 'Show me the price of the flights leaving Atlanta at about 3 in the afternoon and arriving in San Francisco.',\n",
       " 'NASA invited social media users to experience the launch of ICESAT-2 Satellite.']"
      ]
     },
     "execution_count": 29,
     "metadata": {},
     "output_type": "execute_result"
    }
   ],
   "source": [
    "# Strip the special characters and empty strings in the list file\n",
    "test_lines =[sent.rstrip() for sent in lines if sent.rstrip()!='']\n",
    "test_lines"
   ]
  },
  {
   "cell_type": "code",
   "execution_count": 30,
   "metadata": {},
   "outputs": [
    {
     "data": {
      "text/plain": [
       "[[('the', 'DET'), (('Circulation', 'CONJ'), ('Circulation', 'NOUN'))],\n",
       " [('*T*-1', 'X'), (('awards', 'CONJ'), ('awards', 'VERB'))],\n",
       " [('``', '.'), (('renewal', 'CONJ'), ('renewal', 'NOUN'))],\n",
       " [('in', 'ADP'), (('jeopardy', 'CONJ'), ('jeopardy', 'NOUN'))],\n",
       " [('could', 'VERB'), (('view', 'NOUN'), ('view', 'VERB'))],\n",
       " [('are', 'VERB'), (('mentioned', 'CONJ'), ('mentioned', 'VERB'))],\n",
       " [('the', 'DET'), (('statute', 'CONJ'), ('statute', 'NOUN'))],\n",
       " [('.', '.'), (('Exports', 'CONJ'), ('Exports', 'NOUN'))],\n",
       " [('$', '.'), (('5.29', 'CONJ'), ('5.29', 'NUM'))],\n",
       " [('mere', 'ADJ'), (('0.7', 'CONJ'), ('0.7', 'NUM'))],\n",
       " [('year', 'NOUN'), (('earlier', 'ADV'), ('earlier', 'ADJ'))],\n",
       " [('$', '.'), (('5.39', 'CONJ'), ('5.39', 'NUM'))],\n",
       " [('the', 'DET'), (('killings', 'CONJ'), ('killings', 'NOUN'))],\n",
       " [('was', 'VERB'), (('prominently', 'CONJ'), ('prominently', 'ADV'))],\n",
       " [('the', 'DET'), (('demonstrations', 'CONJ'), ('demonstrations', 'NOUN'))],\n",
       " [(\"'re\", 'VERB'), (('lucky', 'CONJ'), ('lucky', 'ADJ'))],\n",
       " [('ringer', 'NOUN'), (('out', 'PRT'), ('out', 'ADP'))],\n",
       " [('The', 'DET'), (('interactions', 'CONJ'), ('interactions', 'NOUN'))],\n",
       " [('*-1', 'X'), (('defying', 'CONJ'), ('defying', 'VERB'))],\n",
       " [('sweeping', 'ADJ'),\n",
       "  (('generalizations', 'CONJ'), ('generalizations', 'NOUN'))],\n",
       " [('Consolidated', 'NOUN'), (('Rail', 'CONJ'), ('Rail', 'NOUN'))],\n",
       " [('1,000', 'NUM'), (('enclosed', 'CONJ'), ('enclosed', 'VERB'))],\n",
       " [('*', 'X'), (('transporting', 'CONJ'), ('transporting', 'VERB'))],\n",
       " [('transporting', 'VERB'), (('autos', 'CONJ'), ('autos', 'NOUN'))],\n",
       " [('a', 'DET'), (('litany', 'CONJ'), ('litany', 'NOUN'))],\n",
       " [('by', 'ADP'), (('Blackstone', 'CONJ'), ('Blackstone', 'NOUN'))],\n",
       " [('.', '.'), (('Part', 'CONJ'), ('Part', 'NOUN'))],\n",
       " [('of', 'ADP'), (('jitters', 'CONJ'), ('jitters', 'NOUN'))],\n",
       " [('the', 'DET'), (('risk-free', 'CONJ'), ('risk-free', 'ADJ'))],\n",
       " [('easily', 'ADV'), (('outdistanced', 'CONJ'), ('outdistanced', 'VERB'))],\n",
       " [('John', 'NOUN'), (('Lonski', 'CONJ'), ('Lonski', 'NOUN'))],\n",
       " [('succeeded', 'VERB'), (('Bennett', 'CONJ'), ('Bennett', 'NOUN'))],\n",
       " [('Bennett', 'NOUN'), (('Cerf', 'CONJ'), ('Cerf', 'NOUN'))],\n",
       " [('in', 'ADP'), (('1925', 'CONJ'), ('1925', 'NUM'))],\n",
       " [('transportation', 'NOUN'), (('1206.26', 'CONJ'), ('1206.26', 'NUM'))],\n",
       " [('utilities', 'NOUN'), (('220.45', 'CONJ'), ('220.45', 'NUM'))],\n",
       " [('.', '.'), (('Integra-A', 'CONJ'), ('Integra-A', 'NOUN'))],\n",
       " [('&', 'CONJ'), (('Restaurant', 'CONJ'), ('Restaurant', 'NOUN'))],\n",
       " [('raise', 'VERB'), (('about', 'ADP'), ('about', 'ADV'))],\n",
       " [('declared', 'VERB'), (('*-103', 'CONJ'), ('*-103', 'X'))],\n",
       " [('*-2', 'X'), (('mailing', 'NOUN'), ('mailing', 'VERB'))],\n",
       " [('out', 'PRT'), (('that', 'DET'), ('that', 'ADP'))],\n",
       " [('may', 'VERB'), (('predispose', 'CONJ'), ('predispose', 'VERB'))],\n",
       " [('a', 'DET'), (('consequence', 'CONJ'), ('consequence', 'NOUN'))],\n",
       " [('is', 'VERB'), (('composed', 'CONJ'), ('composed', 'VERB'))],\n",
       " [('lacks', 'VERB'), (('adequate', 'CONJ'), ('adequate', 'ADJ'))],\n",
       " [('.', '.'), (('Named', 'CONJ'), ('Named', 'VERB'))],\n",
       " [('*T*-1', 'X'), (('Roland', 'CONJ'), ('Roland', 'NOUN'))],\n",
       " [('Roland', 'NOUN'), (('Matthews', 'CONJ'), ('Matthews', 'NOUN'))],\n",
       " [('Peter', 'NOUN'), (('Jonas', 'CONJ'), ('Jonas', 'NOUN'))],\n",
       " [(',', '.'), (('executive', 'NOUN'), ('executive', 'ADJ'))],\n",
       " [(',', '.'), (('as', 'ADP'), ('as', 'ADV'))],\n",
       " [(',', '.'), (('Genie', 'CONJ'), ('Genie', 'NOUN'))],\n",
       " [('.', '.'), (('Corporate', 'NOUN'), ('Corporate', 'ADJ'))],\n",
       " [(\"n't\", 'ADV'), (('inhibit', 'CONJ'), ('inhibit', 'VERB'))],\n",
       " [('$', '.'), (('721', 'CONJ'), ('721', 'NUM'))],\n",
       " [('$', '.'), (('2.62', 'CONJ'), ('2.62', 'NUM'))],\n",
       " [('$', '.'), (('598', 'CONJ'), ('598', 'NUM'))],\n",
       " [('$', '.'), (('2.07', 'CONJ'), ('2.07', 'NUM'))],\n",
       " [('the', 'DET'), (('exits', 'CONJ'), ('exits', 'NOUN'))],\n",
       " [('market', 'NOUN'), (('rebound', 'VERB'), ('rebound', 'NOUN'))],\n",
       " [('rebound', 'NOUN'), (('pushes', 'CONJ'), ('pushes', 'VERB'))],\n",
       " [('*', 'X'), (('Having', 'CONJ'), ('Having', 'VERB'))],\n",
       " [('a', 'DET'), (('supportive', 'CONJ'), ('supportive', 'ADJ'))],\n",
       " [('supportive', 'ADJ'), (('element', 'CONJ'), ('element', 'NOUN'))],\n",
       " [('a', 'DET'), (('needy', 'CONJ'), ('needy', 'ADJ'))],\n",
       " [('loan', 'NOUN'), (('solvent', 'CONJ'), ('solvent', 'ADJ'))],\n",
       " [('continued', 'VERB'), (('slack', 'NOUN'), ('slack', 'ADJ'))],\n",
       " [('traditionally', 'ADV'), (('slow', 'VERB'), ('slow', 'ADJ'))],\n",
       " [('*', 'X'), (('Legislating', 'CONJ'), ('Legislating', 'VERB'))],\n",
       " [('to', 'PRT'), (('parallel', 'ADJ'), ('parallel', 'VERB'))],\n",
       " [('the', 'DET'), (('European', 'ADJ'), ('European', 'NOUN'))],\n",
       " [('European', 'NOUN'), (('Common', 'ADJ'), ('Common', 'NOUN'))],\n",
       " [('rose', 'VERB'), (('3', 'X'), ('3', 'NUM'))],\n",
       " [('$', '.'), (('29.3', 'CONJ'), ('29.3', 'NUM'))],\n",
       " [('$', '.'), (('28.4', 'CONJ'), ('28.4', 'NUM'))],\n",
       " [('took', 'VERB'), (('over', 'ADP'), ('over', 'PRT'))],\n",
       " [(\"'s\", 'PRT'), (('seventh', 'CONJ'), ('seventh', 'ADJ'))],\n",
       " [('which', 'DET'), (('*T*-195', 'CONJ'), ('*T*-195', 'X'))],\n",
       " [(',', '.'), (('fueling', 'CONJ'), ('fueling', 'NOUN'))],\n",
       " [('and', 'CONJ'), (('airports', 'CONJ'), ('airports', 'NOUN'))],\n",
       " [('its', 'PRON'), (('most', 'ADJ'), ('most', 'ADV'))],\n",
       " [('recent', 'ADJ'), (('fiscal', 'ADJ'), ('fiscal', 'NOUN'))],\n",
       " [('divisions', 'NOUN'), (('that', 'ADP'), ('that', 'DET'))],\n",
       " [(\"n't\", 'ADV'), (('wish', 'VERB'), ('wish', 'NOUN'))],\n",
       " [('been', 'VERB'), (('searching', 'CONJ'), ('searching', 'VERB'))],\n",
       " [('including', 'VERB'),\n",
       "  (('food-industry', 'CONJ'), ('food-industry', 'NOUN'))],\n",
       " [('to', 'PRT'), (('fly', 'CONJ'), ('fly', 'VERB'))],\n",
       " [('his', 'PRON'), (('destination', 'CONJ'), ('destination', 'NOUN'))],\n",
       " [('a', 'DET'), (('companion', 'CONJ'), ('companion', 'NOUN'))],\n",
       " [('companion', 'NOUN'), ((\"'s\", 'VERB'), (\"'s\", 'PRT'))],\n",
       " [('they', 'PRON'), (('fly', 'CONJ'), ('fly', 'VERB'))],\n",
       " [('Japanese', 'ADJ'), (('dominance', 'CONJ'), ('dominance', 'NOUN'))],\n",
       " [('would', 'VERB'), (('like', 'ADP'), ('like', 'VERB'))],\n",
       " [('$', '.'), (('1.1650', 'CONJ'), ('1.1650', 'NUM'))],\n",
       " [('have', 'VERB'), (('much', 'ADV'), ('much', 'ADJ'))],\n",
       " [('much', 'ADJ'), (('luck', 'CONJ'), ('luck', 'NOUN'))],\n",
       " [('Robert', 'NOUN'), (('Shrum', 'CONJ'), ('Shrum', 'NOUN'))],\n",
       " [('David', 'NOUN'), (('Doak', 'CONJ'), ('Doak', 'NOUN'))],\n",
       " [('finally', 'ADV'), (('unleashed', 'CONJ'), ('unleashed', 'VERB'))],\n",
       " [('$', '.'), (('234.4', 'CONJ'), ('234.4', 'NUM'))],\n",
       " [('The', 'DET'), (('most', 'ADJ'), ('most', 'ADV'))],\n",
       " [('widely', 'ADV'), (('used', 'VERB'), ('used', 'ADJ'))],\n",
       " [('by', 'ADP'), (('Houghton', 'CONJ'), ('Houghton', 'NOUN'))],\n",
       " [('Houghton', 'NOUN'), (('Mifflin', 'CONJ'), ('Mifflin', 'NOUN'))],\n",
       " [('and', 'CONJ'), (('Harcourt', 'CONJ'), ('Harcourt', 'NOUN'))],\n",
       " [('Harcourt', 'NOUN'), (('Brace', 'CONJ'), ('Brace', 'NOUN'))],\n",
       " [('Brace', 'NOUN'), (('Jovanovich', 'CONJ'), ('Jovanovich', 'NOUN'))],\n",
       " [(\"'s\", 'PRT'), (('Metropolitan', 'CONJ'), ('Metropolitan', 'NOUN'))],\n",
       " [('almost', 'ADV'), (('single-handed', 'CONJ'), ('single-handed', 'ADJ'))],\n",
       " [('the', 'DET'), (('reins', 'CONJ'), ('reins', 'NOUN'))],\n",
       " [('Constitution', 'NOUN'), (('authorizes', 'CONJ'), ('authorizes', 'VERB'))],\n",
       " [('to', 'PRT'), (('veto', 'NOUN'), ('veto', 'VERB'))],\n",
       " [('not', 'ADV'), (('partial', 'CONJ'), ('partial', 'ADJ'))],\n",
       " [('to', 'PRT'), (('waive', 'CONJ'), ('waive', 'VERB'))],\n",
       " [('its', 'PRON'), (('protective', 'CONJ'), ('protective', 'ADJ'))],\n",
       " [('``', '.'), (('golden', 'CONJ'), ('golden', 'ADJ'))],\n",
       " [('$', '.'), (('184', 'CONJ'), ('184', 'NUM'))],\n",
       " [('for', 'ADP'), (('*-30', 'CONJ'), ('*-30', 'X'))],\n",
       " [('*', 'X'), (('sorting', 'CONJ'), ('sorting', 'VERB'))],\n",
       " [('sorting', 'VERB'), (('out', 'ADP'), ('out', 'PRT'))],\n",
       " [('out', 'PRT'), (('specifics', 'CONJ'), ('specifics', 'NOUN'))],\n",
       " [('the', 'DET'), (('Japanese', 'ADJ'), ('Japanese', 'NOUN'))],\n",
       " [('off', 'PRT'), (('down', 'ADV'), ('down', 'ADP'))],\n",
       " [(',', '.'), (('change', 'NOUN'), ('change', 'VERB'))],\n",
       " [('from', 'ADP'), (('borrowers', 'CONJ'), ('borrowers', 'NOUN'))],\n",
       " [('to', 'PRT'),\n",
       "  (('savers\\\\/investors', 'CONJ'), ('savers\\\\/investors', 'NOUN'))],\n",
       " [('bone', 'NOUN'), (('marrow', 'CONJ'), ('marrow', 'NOUN'))],\n",
       " [('other', 'ADJ'), (('blood-cell', 'CONJ'), ('blood-cell', 'NOUN'))],\n",
       " [('*T*-67', 'X'), ((\"'s\", 'PRT'), (\"'s\", 'VERB'))],\n",
       " [('getting', 'VERB'), (('out', 'PRT'), ('out', 'ADP'))],\n",
       " [('they', 'PRON'), (('waited', 'CONJ'), ('waited', 'VERB'))],\n",
       " [('then', 'ADV'), (('sneaked', 'CONJ'), ('sneaked', 'VERB'))],\n",
       " [('others', 'NOUN'), (('prefer', 'CONJ'), ('prefer', 'VERB'))],\n",
       " [('a', 'DET'), (('four-foot-high', 'CONJ'), ('four-foot-high', 'ADJ'))],\n",
       " [('concrete', 'ADJ'), (('slab', 'CONJ'), ('slab', 'NOUN'))],\n",
       " [('II', 'NOUN'), (('lend-lease', 'CONJ'), ('lend-lease', 'ADJ'))],\n",
       " [('its', 'PRON'), (('Eveready', 'CONJ'), ('Eveready', 'NOUN'))],\n",
       " [('Artist', 'NOUN'), (('hangs', 'CONJ'), ('hangs', 'VERB'))],\n",
       " [('hangs', 'VERB'), (('out', 'ADP'), ('out', 'PRT'))],\n",
       " [('in', 'ADP'), (('Greenwich', 'CONJ'), ('Greenwich', 'NOUN'))],\n",
       " [('Greenwich', 'NOUN'), (('Village', 'CONJ'), ('Village', 'NOUN'))],\n",
       " [('a', 'DET'), (('strip', 'VERB'), ('strip', 'NOUN'))],\n",
       " [('of', 'ADP'), (('Sixth', 'CONJ'), ('Sixth', 'NOUN'))],\n",
       " [('Sixth', 'NOUN'), (('Avenue', 'CONJ'), ('Avenue', 'NOUN'))],\n",
       " [('Avenue', 'NOUN'), (('populated', 'CONJ'), ('populated', 'VERB'))],\n",
       " [('by', 'ADP'), (('jugglers', 'CONJ'), ('jugglers', 'NOUN'))],\n",
       " [(',', '.'), (('magicians', 'CONJ'), ('magicians', 'NOUN'))],\n",
       " [('other', 'ADJ'), (('good-natured', 'CONJ'), ('good-natured', 'ADJ'))],\n",
       " [('good-natured', 'ADJ'), (('hustlers', 'CONJ'), ('hustlers', 'NOUN'))],\n",
       " [('he', 'PRON'), (('meets', 'CONJ'), ('meets', 'VERB'))],\n",
       " [('a', 'DET'), (('solicitous', 'CONJ'), ('solicitous', 'ADJ'))],\n",
       " [('solicitous', 'ADJ'), (('Christian', 'NOUN'), ('Christian', 'ADJ'))],\n",
       " [('Christian', 'ADJ'), (('chauffeur', 'CONJ'), ('chauffeur', 'NOUN'))],\n",
       " [('hero', 'NOUN'), (('God', 'CONJ'), ('God', 'NOUN'))],\n",
       " [('God', 'NOUN'), ((\"'s\", 'VERB'), (\"'s\", 'PRT'))],\n",
       " [(',', '.'), (('roughhewn', 'CONJ'), ('roughhewn', 'ADJ'))],\n",
       " [('*T*-56', 'X'), (('wears', 'CONJ'), ('wears', 'VERB'))],\n",
       " [('--', '.'), (('a', 'DET'), ('a', 'ADJ'))],\n",
       " [('a', 'ADJ'), (('sheepskin', 'CONJ'), ('sheepskin', 'NOUN'))],\n",
       " [('Yeargin', 'NOUN'), (('concedes', 'CONJ'), ('concedes', 'VERB'))],\n",
       " [('concedes', 'VERB'), (('that', 'DET'), ('that', 'ADP'))],\n",
       " [('went', 'VERB'), (('over', 'ADP'), ('over', 'ADV'))],\n",
       " [('The', 'DET'), (('CEO', 'CONJ'), ('CEO', 'NOUN'))],\n",
       " [('CEO', 'NOUN'), (('succession', 'CONJ'), ('succession', 'NOUN'))],\n",
       " [('take', 'VERB'), (('early', 'ADV'), ('early', 'ADJ'))],\n",
       " [(\"''\", '.'), (('Barrels', 'CONJ'), ('Barrels', 'NOUN'))],\n",
       " [('Jones', 'NOUN'), (('Equity', 'CONJ'), ('Equity', 'NOUN'))],\n",
       " [('gained', 'VERB'), (('0.99', 'CONJ'), ('0.99', 'NUM'))],\n",
       " [('to', 'PRT'), (('319.75', 'CONJ'), ('319.75', 'NUM'))],\n",
       " [('Exchange', 'NOUN'), (('Composite', 'CONJ'), ('Composite', 'NOUN'))],\n",
       " [('went', 'VERB'), (('up', 'ADV'), ('up', 'ADP'))],\n",
       " [('up', 'ADP'), (('0.60', 'CONJ'), ('0.60', 'NUM'))],\n",
       " [('to', 'PRT'), (('188.84', 'CONJ'), ('188.84', 'NUM'))],\n",
       " [('Diaper', 'NOUN'), (('shortages', 'CONJ'), ('shortages', 'NOUN'))],\n",
       " [('at', 'ADP'), (('Stork', 'CONJ'), ('Stork', 'NOUN'))],\n",
       " [(',', '.'), (('Springfield', 'CONJ'), ('Springfield', 'NOUN'))],\n",
       " [('is', 'VERB'), (('up', 'ADV'), ('up', 'ADP'))],\n",
       " [('the', 'DET'), (('most', 'ADJ'), ('most', 'ADV'))],\n",
       " [('a', 'DET'), (('roll', 'VERB'), ('roll', 'NOUN'))],\n",
       " [('the', 'DET'), (('first', 'ADJ'), ('first', 'ADV'))],\n",
       " [('two-year', 'ADJ'), (('cost-control', 'CONJ'), ('cost-control', 'ADJ'))],\n",
       " [('additional', 'ADJ'), (('disruption', 'CONJ'), ('disruption', 'NOUN'))],\n",
       " [('our', 'PRON'), (('borrowing', 'VERB'), ('borrowing', 'NOUN'))],\n",
       " [('borrowing', 'NOUN'), (('schedule', 'CONJ'), ('schedule', 'NOUN'))],\n",
       " [('the', 'DET'), (('taxpayer', 'CONJ'), ('taxpayer', 'NOUN'))],\n",
       " [('Secretary', 'NOUN'), (('Nicholas', 'CONJ'), ('Nicholas', 'NOUN'))],\n",
       " [('Nicholas', 'NOUN'), (('Brady', 'CONJ'), ('Brady', 'NOUN'))],\n",
       " [('--', '.'), (('including', 'VERB'), ('including', 'ADP'))],\n",
       " [(',', '.'), (('Greece', 'CONJ'), ('Greece', 'NOUN'))],\n",
       " [('pose', 'VERB'), (('less-serious', 'CONJ'), ('less-serious', 'ADJ'))],\n",
       " [('for', 'ADP'), (('American', 'NOUN'), ('American', 'ADJ'))],\n",
       " [('on', 'ADP'), (('50.1', 'CONJ'), ('50.1', 'NUM'))],\n",
       " [('fellow', 'ADJ'), (('Texan', 'CONJ'), ('Texan', 'NOUN'))],\n",
       " [('Sen.', 'NOUN'), (('Lloyd', 'CONJ'), ('Lloyd', 'NOUN'))],\n",
       " [('Lloyd', 'NOUN'), (('Bentsen', 'CONJ'), ('Bentsen', 'NOUN'))],\n",
       " [('to', 'PRT'), (('highlight', 'CONJ'), ('highlight', 'VERB'))],\n",
       " [('who', 'PRON'), (('*T*-185', 'CONJ'), ('*T*-185', 'X'))],\n",
       " [('the', 'DET'), (('Purchase', 'CONJ'), ('Purchase', 'NOUN'))],\n",
       " [('Purchase', 'NOUN'), (('campus', 'CONJ'), ('campus', 'NOUN'))],\n",
       " [('Lane', 'NOUN'), (('shot', 'NOUN'), ('shot', 'VERB'))],\n",
       " [('A', 'DET'), (('Place', 'CONJ'), ('Place', 'NOUN'))],\n",
       " [('a', 'DET'), (('36-minute', 'CONJ'), ('36-minute', 'ADJ'))],\n",
       " [('36-minute', 'ADJ'),\n",
       "  (('black-and-white', 'CONJ'), ('black-and-white', 'ADJ'))],\n",
       " [('been', 'VERB'), (('as', 'ADP'), ('as', 'ADV'))],\n",
       " [('to', 'PRT'), (('bounce', 'CONJ'), ('bounce', 'VERB'))],\n",
       " [('bills', 'NOUN'), (('back', 'PRT'), ('back', 'ADV'))],\n",
       " [('50', 'NUM'), (('witnesses', 'CONJ'), ('witnesses', 'NOUN'))],\n",
       " [('$', '.'), (('472', 'CONJ'), ('472', 'NUM'))],\n",
       " [('commodities', 'NOUN'),\n",
       "  (('strengthened', 'CONJ'), ('strengthened', 'VERB'))],\n",
       " [('*T*-1', 'X'), (('Keith', 'CONJ'), ('Keith', 'NOUN'))],\n",
       " [('to', 'PRT'), (('realestate', 'CONJ'), ('realestate', 'VERB'))],\n",
       " [('good', 'ADJ'), (('will', 'VERB'), ('will', 'NOUN'))],\n",
       " [('J.', 'NOUN'), (('Lezovich', 'CONJ'), ('Lezovich', 'NOUN'))],\n",
       " [('in', 'ADP'), (('summons', 'CONJ'), ('summons', 'NOUN'))],\n",
       " [('being', 'VERB'), (('initiated', 'CONJ'), ('initiated', 'VERB'))],\n",
       " [('Late', 'ADV'), (('that', 'ADP'), ('that', 'DET'))],\n",
       " [('500', 'NUM'), (('stock-index', 'NOUN'), ('stock-index', 'ADJ'))],\n",
       " [('a', 'DET'), (('total', 'ADJ'), ('total', 'NOUN'))],\n",
       " [('limit', 'NOUN'), (('that', 'ADP'), ('that', 'DET'))],\n",
       " [('that', 'DET'), (('*T*-210', 'CONJ'), ('*T*-210', 'X'))],\n",
       " [('.', '.'), (('FALL', 'CONJ'), ('FALL', 'NOUN'))],\n",
       " [('FALL', 'NOUN'), (('BALLOT', 'CONJ'), ('BALLOT', 'NOUN'))],\n",
       " [('BALLOT', 'NOUN'), (('ISSUES', 'CONJ'), ('ISSUES', 'NOUN'))],\n",
       " [('for', 'ADP'), (('off-year', 'CONJ'), ('off-year', 'ADJ'))],\n",
       " [('to', 'PRT'), (('177', 'CONJ'), ('177', 'NUM'))],\n",
       " [('of', 'ADP'), (('Elsevier', 'CONJ'), ('Elsevier', 'NOUN'))],\n",
       " [('the', 'DET'), (('Dutch', 'ADJ'), ('Dutch', 'NOUN'))],\n",
       " [('Dutch', 'NOUN'), (('publishing', 'NOUN'), ('publishing', 'VERB'))],\n",
       " [('statistics', 'NOUN'), (('imply', 'CONJ'), ('imply', 'VERB'))],\n",
       " [('imply', 'VERB'), (('that', 'DET'), ('that', 'ADP'))],\n",
       " [('that', 'ADP'), (('three-quarters', 'CONJ'), ('three-quarters', 'NOUN'))],\n",
       " [('9', 'NUM'), (('page-one', 'ADJ'), ('page-one', 'NOUN'))],\n",
       " [('``', '.'), (('Barbara', 'CONJ'), ('Barbara', 'NOUN'))],\n",
       " [('Bush', 'NOUN'), (('Earns', 'CONJ'), ('Earns', 'VERB'))],\n",
       " [('Higher', 'ADJ'), (('Ratings', 'CONJ'), ('Ratings', 'NOUN'))],\n",
       " [('Ratings', 'NOUN'), (('Than', 'CONJ'), ('Than', 'ADP'))],\n",
       " [('is', 'VERB'), (('regrettable', 'CONJ'), ('regrettable', 'ADJ'))],\n",
       " [('regrettable', 'ADJ'), (('that', 'DET'), ('that', 'ADP'))],\n",
       " [('our', 'PRON'), (('negatives', 'CONJ'), ('negatives', 'NOUN'))],\n",
       " [('Among', 'ADP'), (('liberals', 'CONJ'), ('liberals', 'NOUN'))],\n",
       " [('--', '.'), (('the', 'DET'), ('the', 'ADJ'))],\n",
       " [('the', 'ADJ'), (('symmetry', 'CONJ'), ('symmetry', 'NOUN'))],\n",
       " [('of', 'ADP'), (('geometrical', 'CONJ'), ('geometrical', 'ADJ'))],\n",
       " [('metric', 'ADJ'), (('measurement', 'CONJ'), ('measurement', 'NOUN'))],\n",
       " [('or', 'CONJ'), (('pie', 'CONJ'), ('pie', 'NOUN'))],\n",
       " [('bar', 'NOUN'), (('graphs', 'CONJ'), ('graphs', 'NOUN'))],\n",
       " [('--', '.'), (('are', 'VERB'), ('are', 'NOUN'))],\n",
       " [('preparation', 'NOUN'), (('kits', 'CONJ'), ('kits', 'NOUN'))],\n",
       " [(\"n't\", 'ADV'), (('replicate', 'CONJ'), ('replicate', 'VERB'))],\n",
       " [('general', 'ADJ'),\n",
       "  (('familiarization', 'CONJ'), ('familiarization', 'NOUN'))],\n",
       " [('was', 'VERB'), (('awfully', 'CONJ'), ('awfully', 'ADV'))],\n",
       " [('at', 'ADP'), (('Schaefer', 'CONJ'), ('Schaefer', 'NOUN'))],\n",
       " [('Schaefer', 'NOUN'), ((\"'s\", 'VERB'), (\"'s\", 'PRT'))],\n",
       " [('in', 'ADP'), (('Skokie', 'CONJ'), ('Skokie', 'NOUN'))],\n",
       " [('in', 'ADP'), (('suburban', 'CONJ'), ('suburban', 'ADJ'))],\n",
       " [('people', 'NOUN'), (('out', 'PRT'), ('out', 'ADP'))],\n",
       " [('out', 'ADP'), (('there', 'DET'), ('there', 'ADV'))],\n",
       " [('different', 'ADJ'), (('opinions', 'CONJ'), ('opinions', 'NOUN'))],\n",
       " [('not', 'ADV'), (('there', 'DET'), ('there', 'ADV'))],\n",
       " [('*T*-1', 'X'), (('Cedric', 'CONJ'), ('Cedric', 'NOUN'))],\n",
       " [('Wine', 'NOUN'), (('Cellar', 'CONJ'), ('Cellar', 'NOUN'))],\n",
       " [('S.', 'NOUN'), (('Hubbell', 'CONJ'), ('Hubbell', 'NOUN'))],\n",
       " [('individuals', 'NOUN'), (('violated', 'CONJ'), ('violated', 'VERB'))],\n",
       " [('criminal', 'ADJ'), (('statute', 'CONJ'), ('statute', 'NOUN'))],\n",
       " [('they', 'PRON'), (('own', 'ADJ'), ('own', 'VERB'))],\n",
       " [('to', 'PRT'), (('duck', 'CONJ'), ('duck', 'VERB'))],\n",
       " [('which', 'DET'), (('identical', 'CONJ'), ('identical', 'ADJ'))],\n",
       " [('.', '.'), (('Declining', 'CONJ'), ('Declining', 'VERB'))],\n",
       " [('slightly', 'ADV'), (('outnumbered', 'CONJ'), ('outnumbered', 'VERB'))],\n",
       " [(',', '.'), (('454', 'CONJ'), ('454', 'NUM'))],\n",
       " [('to', 'PRT'), (('451', 'CONJ'), ('451', 'NUM'))],\n",
       " [('.', '.'), (('Card', 'CONJ'), ('Card', 'NOUN'))],\n",
       " [('a', 'DET'), (('sweepstakes', 'CONJ'), ('sweepstakes', 'NOUN'))],\n",
       " [('average', 'ADJ'), (('net', 'ADJ'), ('net', 'NOUN'))],\n",
       " [('Secretary', 'NOUN'), (('Elizabeth', 'CONJ'), ('Elizabeth', 'NOUN'))],\n",
       " [('corporate', 'ADJ'), (('indifference', 'CONJ'), ('indifference', 'NOUN'))],\n",
       " [('experts', 'NOUN'), (('question', 'NOUN'), ('question', 'VERB'))],\n",
       " [('Madison', 'NOUN'), (('Avenue', 'CONJ'), ('Avenue', 'NOUN'))],\n",
       " [('Avenue', 'NOUN'), ((\"'s\", 'VERB'), (\"'s\", 'PRT'))],\n",
       " [('big', 'ADJ'), (('spenders', 'CONJ'), ('spenders', 'NOUN'))],\n",
       " [('the', 'DET'), (('best-selling', 'CONJ'), ('best-selling', 'ADJ'))],\n",
       " [('.', '.'), (('Inventories', 'CONJ'), ('Inventories', 'NOUN'))],\n",
       " [('closely', 'ADV'), (('watched', 'CONJ'), ('watched', 'VERB'))],\n",
       " [('of', 'ADP'), (('133.8', 'CONJ'), ('133.8', 'NUM'))],\n",
       " [('something', 'NOUN'), (('inherently', 'CONJ'), ('inherently', 'ADV'))],\n",
       " [('inherently', 'ADV'), (('suspect', 'VERB'), ('suspect', 'ADJ'))],\n",
       " [(\"'s\", 'PRT'), (('prohibiting', 'CONJ'), ('prohibiting', 'VERB'))],\n",
       " [('being', 'VERB'), (('wasted', 'CONJ'), ('wasted', 'VERB'))],\n",
       " [('some', 'DET'), (('favored', 'ADJ'), ('favored', 'VERB'))],\n",
       " [('*EXP*-1', 'X'), ((\"'s\", 'PRT'), (\"'s\", 'VERB'))],\n",
       " [('Both', 'DET'), (('Deryck', 'CONJ'), ('Deryck', 'NOUN'))],\n",
       " [('who', 'PRON'), (('*T*-256', 'CONJ'), ('*T*-256', 'X'))],\n",
       " [('*T*-256', 'X'), (('heads', 'NOUN'), ('heads', 'VERB'))],\n",
       " [('S.', 'NOUN'), (('Wadsworth', 'CONJ'), ('Wadsworth', 'NOUN'))],\n",
       " [('who', 'PRON'), (('*T*-257', 'CONJ'), ('*T*-257', 'X'))],\n",
       " [('*T*-257', 'X'), (('heads', 'NOUN'), ('heads', 'VERB'))],\n",
       " [('Stanley', 'NOUN'), (('there', 'DET'), ('there', 'ADV'))],\n",
       " [(',', '.'), (('ascribe', 'CONJ'), ('ascribe', 'VERB'))],\n",
       " [('to', 'PRT'), (('offer', 'NOUN'), ('offer', 'VERB'))],\n",
       " [(',', '.'), (('futures-related', 'CONJ'), ('futures-related', 'ADJ'))],\n",
       " [('Enterprise', 'NOUN'), (('Rent-A-Car', 'CONJ'), ('Rent-A-Car', 'NOUN'))],\n",
       " [('seen', 'VERB'), (('so', 'ADV'), ('so', 'ADP'))],\n",
       " [('people', 'NOUN'), (('crying', 'CONJ'), ('crying', 'VERB'))],\n",
       " [('an', 'DET'), (('assistant', 'NOUN'), ('assistant', 'ADJ'))],\n",
       " [('of', 'ADP'), (('ceramic', 'CONJ'), ('ceramic', 'ADJ'))],\n",
       " [('years', 'NOUN'), (('promise', 'NOUN'), ('promise', 'VERB'))],\n",
       " [('new', 'ADJ'), (('technologies', 'CONJ'), ('technologies', 'NOUN'))],\n",
       " [('electrical', 'ADJ'), (('generation', 'CONJ'), ('generation', 'NOUN'))],\n",
       " [('Michelin', 'NOUN'), (('S.A', 'CONJ'), ('S.A', 'NOUN'))],\n",
       " [('got', 'VERB'), (('enough', 'ADV'), ('enough', 'ADJ'))],\n",
       " [('1987', 'NUM'), (('statute', 'CONJ'), ('statute', 'NOUN'))],\n",
       " [('Yeargin', 'NOUN'), (('violated', 'CONJ'), ('violated', 'VERB'))],\n",
       " [(\"'s\", 'PRT'),\n",
       "  (('school-improvement', 'CONJ'), ('school-improvement', 'ADJ'))],\n",
       " [('would', 'VERB'), (('like', 'ADP'), ('like', 'VERB'))],\n",
       " [('have', 'VERB'), (('more', 'ADV'), ('more', 'ADJ'))],\n",
       " [('$', '.'), (('177', 'CONJ'), ('177', 'NUM'))],\n",
       " [('$', '.'), (('1.50', 'CONJ'), ('1.50', 'NUM'))],\n",
       " [('.', '.'), (('Fundamentalists', 'CONJ'), ('Fundamentalists', 'NOUN'))],\n",
       " [('Jihad', 'NOUN'), (('Odd-year', 'CONJ'), ('Odd-year', 'ADJ'))],\n",
       " [('*', 'X'), (('shaping', 'CONJ'), ('shaping', 'VERB'))],\n",
       " [('while', 'ADP'), (('more', 'ADJ'), ('more', 'ADV'))],\n",
       " [('ambitious', 'ADJ'), (('authorizing', 'CONJ'), ('authorizing', 'VERB'))],\n",
       " [('more', 'ADV'), (('decisive', 'CONJ'), ('decisive', 'ADJ'))],\n",
       " [('.', '.'), (('Citizens', 'CONJ'), ('Citizens', 'NOUN'))],\n",
       " [('in', 'ADP'), (('Peninsula', 'CONJ'), ('Peninsula', 'NOUN'))],\n",
       " [(\"'s\", 'PRT'), (('floral', 'CONJ'), ('floral', 'ADJ'))],\n",
       " [('18', 'NUM'), (('categories', 'CONJ'), ('categories', 'NOUN'))],\n",
       " [('turned', 'VERB'), (('down', 'ADV'), ('down', 'PRT'))],\n",
       " [('``', '.'), (('because', 'ADP'), ('because', 'ADV'))],\n",
       " [('the', 'DET'), (('potential', 'ADJ'), ('potential', 'NOUN'))],\n",
       " [('material', 'NOUN'), (('injury', 'CONJ'), ('injury', 'NOUN'))],\n",
       " [(\"''\", '.'), (('Deregulation', 'CONJ'), ('Deregulation', 'NOUN'))],\n",
       " [('pay', 'VERB'), (('*T*-201', 'CONJ'), ('*T*-201', 'X'))],\n",
       " [(',', '.'), (('as', 'ADP'), ('as', 'ADV'))],\n",
       " [('opened', 'VERB'), (('up', 'ADV'), ('up', 'PRT'))],\n",
       " [('as', 'ADP'), (('high-rate', 'CONJ'), ('high-rate', 'ADJ'))],\n",
       " [('high-rate', 'ADJ'), (('CDs', 'CONJ'), ('CDs', 'NOUN'))],\n",
       " [('The', 'DET'), (('Japanese', 'ADJ'), ('Japanese', 'NOUN'))],\n",
       " [('who', 'PRON'), (('*T*-184', 'CONJ'), ('*T*-184', 'X'))],\n",
       " [('*-2', 'X'), (('informally', 'CONJ'), ('informally', 'ADV'))],\n",
       " [('the', 'DET'), (('impending', 'ADJ'), ('impending', 'VERB'))],\n",
       " [('compound', 'NOUN'), (('yield', 'VERB'), ('yield', 'NOUN'))],\n",
       " [('funds', 'NOUN'), (('tracked', 'CONJ'), ('tracked', 'VERB'))],\n",
       " [('by', 'ADP'), (('IBC', 'CONJ'), ('IBC', 'NOUN'))],\n",
       " [('IBC', 'NOUN'), ((\"'s\", 'VERB'), (\"'s\", 'PRT'))],\n",
       " [('a', 'DET'), (('fraction', 'CONJ'), ('fraction', 'NOUN'))],\n",
       " [('M.', 'NOUN'), (('Rexinger', 'CONJ'), ('Rexinger', 'NOUN'))],\n",
       " [('City', 'NOUN'), (('executive', 'NOUN'), ('executive', 'ADJ'))],\n",
       " [('R.', 'NOUN'), (('Glauber', 'CONJ'), ('Glauber', 'NOUN'))],\n",
       " [('the', 'DET'), (('12-member', 'CONJ'), ('12-member', 'ADJ'))],\n",
       " [('financial', 'ADJ'), (('settlements', 'CONJ'), ('settlements', 'NOUN'))],\n",
       " [('guilty', 'ADJ'), (('plea', 'CONJ'), ('plea', 'NOUN'))],\n",
       " [('six', 'NUM'), (('felonies', 'CONJ'), ('felonies', 'NOUN'))],\n",
       " [('big', 'ADJ'), (('insider-trading', 'CONJ'), ('insider-trading', 'ADJ'))],\n",
       " [('is', 'VERB'), (('finalized', 'CONJ'), ('finalized', 'VERB'))],\n",
       " [('will', 'VERB'), (('open', 'ADJ'), ('open', 'VERB'))],\n",
       " [('with', 'ADP'), (('state-appointed', 'CONJ'), ('state-appointed', 'ADJ'))],\n",
       " [('state-appointed', 'ADJ'), (('receivers', 'CONJ'), ('receivers', 'NOUN'))],\n",
       " [('or', 'CONJ'), (('lease', 'CONJ'), ('lease', 'VERB'))],\n",
       " [(',', '.'), (('though', 'ADP'), ('though', 'ADV'))],\n",
       " [('such', 'ADJ'), (('close', 'NOUN'), ('close', 'ADJ'))],\n",
       " [('acquiring', 'VERB'), (('more', 'ADV'), ('more', 'ADJ'))],\n",
       " [('how', 'ADV'), (('much', 'ADV'), ('much', 'ADJ'))],\n",
       " [(',', '.'), (('proprietor', 'CONJ'), ('proprietor', 'NOUN'))],\n",
       " [('Wine', 'NOUN'), (('Cellars', 'CONJ'), ('Cellars', 'NOUN'))],\n",
       " [('in', 'ADP'), (('Napa', 'CONJ'), ('Napa', 'NOUN'))],\n",
       " [('price', 'NOUN'), (('tag', 'CONJ'), ('tag', 'NOUN'))],\n",
       " [('will', 'VERB'), (('likely', 'ADJ'), ('likely', 'ADV'))],\n",
       " [('likely', 'ADV'), (('cause', 'NOUN'), ('cause', 'VERB'))],\n",
       " [('Italy', 'NOUN'), (('there', 'DET'), ('there', 'ADV'))],\n",
       " [('is', 'VERB'), (('Angelo', 'CONJ'), ('Angelo', 'NOUN'))],\n",
       " [('Angelo', 'NOUN'), (('Gaja', 'CONJ'), ('Gaja', 'NOUN'))],\n",
       " [('Gaja', 'NOUN'), (('Barbaresco', 'CONJ'), ('Barbaresco', 'NOUN'))],\n",
       " [(',', '.'), (('Piero', 'CONJ'), ('Piero', 'NOUN'))],\n",
       " [('Piero', 'NOUN'), (('Antinori', 'CONJ'), ('Antinori', 'NOUN'))],\n",
       " [('Antinori', 'NOUN'), ((\"'s\", 'VERB'), (\"'s\", 'PRT'))],\n",
       " [('La', 'NOUN'), (('Solaia', 'CONJ'), ('Solaia', 'NOUN'))],\n",
       " [('coaching', 'NOUN'), (('aids', 'CONJ'), ('aids', 'NOUN'))],\n",
       " [('can', 'VERB'), (('defeat', 'NOUN'), ('defeat', 'VERB'))],\n",
       " [('which', 'DET'), (('*T*-104', 'CONJ'), ('*T*-104', 'X'))],\n",
       " [('gauge', 'VERB'), (('learning', 'CONJ'), ('learning', 'NOUN'))],\n",
       " [('would', 'VERB'), (('destroy', 'CONJ'), ('destroy', 'VERB'))],\n",
       " [('pricing', 'NOUN'), (('efficiency', 'CONJ'), ('efficiency', 'NOUN'))],\n",
       " [(',', '.'), (('India', 'CONJ'), ('India', 'NOUN'))],\n",
       " [('priority', 'NOUN'), (('watch', 'VERB'), ('watch', 'NOUN'))],\n",
       " [('Van', 'NOUN'), (('Nuys', 'CONJ'), ('Nuys', 'NOUN'))],\n",
       " [('$', '.'), (('132,000', 'CONJ'), ('132,000', 'NUM'))],\n",
       " [('*-1', 'X'), (('Rated', 'CONJ'), ('Rated', 'VERB'))],\n",
       " [(',', '.'), (('old-style', 'CONJ'), ('old-style', 'ADJ'))],\n",
       " [('funds', 'NOUN'), (('that', 'ADP'), ('that', 'DET'))],\n",
       " [('to', 'PRT'), (('juggle', 'CONJ'), ('juggle', 'VERB'))],\n",
       " [('portfolios', 'NOUN'), (('so', 'ADV'), ('so', 'ADP'))],\n",
       " [('they', 'PRON'), (('mirror', 'NOUN'), ('mirror', 'VERB'))],\n",
       " [('was', 'VERB'), (('appropriated', 'CONJ'), ('appropriated', 'VERB'))],\n",
       " [('biggest', 'ADJ'), (('nonfinancial', 'CONJ'), ('nonfinancial', 'ADJ'))],\n",
       " [('gained', 'VERB'), (('1.39', 'CONJ'), ('1.39', 'NUM'))],\n",
       " [('to', 'PRT'), (('446.62', 'CONJ'), ('446.62', 'NUM'))],\n",
       " [('running', 'VERB'), (('up', 'ADV'), ('up', 'PRT'))],\n",
       " [('up', 'PRT'), (('record', 'VERB'), ('record', 'ADJ'))],\n",
       " [('Salon', 'NOUN'), (('le', 'CONJ'), ('le', 'DET'))],\n",
       " [('64-year-old', 'ADJ'), (('Derek', 'CONJ'), ('Derek', 'NOUN'))],\n",
       " [(',', '.'), (('so', 'ADV'), ('so', 'ADP'))],\n",
       " [('the', 'DET'), (('lieutenant', 'CONJ'), ('lieutenant', 'NOUN'))],\n",
       " [('.', '.'), (('Continued', 'CONJ'), ('Continued', 'VERB'))],\n",
       " [('will', 'VERB'), (('likely', 'ADJ'), ('likely', 'ADV'))],\n",
       " [('likely', 'ADV'), (('trim', 'CONJ'), ('trim', 'VERB'))],\n",
       " [('about', 'ADP'), (('275', 'CONJ'), ('275', 'NUM'))],\n",
       " [('to', 'PRT'), (('350', 'CONJ'), ('350', 'NUM'))],\n",
       " [('than', 'ADP'), (('21,000', 'CONJ'), ('21,000', 'NUM'))],\n",
       " [(\"n't\", 'ADV'), (('hospitable', 'CONJ'), ('hospitable', 'ADJ'))],\n",
       " [('*-2', 'X'), (('punishing', 'CONJ'), ('punishing', 'VERB'))],\n",
       " [('or', 'CONJ'), (('retaliating', 'CONJ'), ('retaliating', 'VERB'))],\n",
       " [('what', 'PRON'), (('*T*-252', 'CONJ'), ('*T*-252', 'X'))],\n",
       " [('*-1', 'X'), (('complaining', 'CONJ'), ('complaining', 'VERB'))],\n",
       " [('ended', 'VERB'), (('up', 'ADV'), ('up', 'PRT'))],\n",
       " [('pursue', 'VERB'), (('unspecified', 'CONJ'), ('unspecified', 'ADJ'))],\n",
       " [('organization', 'NOUN'), (('termed', 'CONJ'), ('termed', 'VERB'))],\n",
       " [('``', '.'), (('amicable', 'CONJ'), ('amicable', 'ADJ'))],\n",
       " [('of', 'ADP'), (('big-time', 'CONJ'), ('big-time', 'ADJ'))],\n",
       " [('ad', 'NOUN'), (('spenders', 'CONJ'), ('spenders', 'NOUN'))],\n",
       " [('a', 'DET'), (('whipping', 'CONJ'), ('whipping', 'ADJ'))],\n",
       " [('whipping', 'ADJ'), (('boy', 'CONJ'), ('boy', 'NOUN'))],\n",
       " [('to', 'PRT'), (('gain', 'NOUN'), ('gain', 'VERB'))],\n",
       " [('*', 'X'), (('wooing', 'CONJ'), ('wooing', 'VERB'))],\n",
       " [('existing', 'VERB'),\n",
       "  (('stock-selection', 'CONJ'), ('stock-selection', 'ADJ'))],\n",
       " [('to', 'PRT'), (('pour', 'CONJ'), ('pour', 'VERB'))],\n",
       " [('Ralston', 'NOUN'), (('Purina', 'CONJ'), ('Purina', 'NOUN'))],\n",
       " [('costs', 'NOUN'), (('as', 'ADP'), ('as', 'ADV'))],\n",
       " [('a', 'DET'), (('more', 'ADJ'), ('more', 'ADV'))],\n",
       " [('long-term', 'ADJ'), (('play', 'VERB'), ('play', 'NOUN'))],\n",
       " [('programs', 'NOUN'), (('that', 'ADP'), ('that', 'DET'))],\n",
       " [('seem', 'VERB'), (('tailor-made', 'CONJ'), ('tailor-made', 'ADJ'))],\n",
       " [('who', 'PRON'), (('*T*-132', 'CONJ'), ('*T*-132', 'X'))],\n",
       " [('*T*-132', 'X'), (('heads', 'NOUN'), ('heads', 'VERB'))],\n",
       " [(\"'s\", 'PRT'), (('grand', 'CONJ'), ('grand', 'ADJ'))],\n",
       " [('are', 'VERB'), (('prohibited', 'CONJ'), ('prohibited', 'VERB'))],\n",
       " [('of', 'ADP'), (('ethics', 'CONJ'), ('ethics', 'NOUN'))],\n",
       " [('*-1', 'X'), (('disclosing', 'CONJ'), ('disclosing', 'VERB'))],\n",
       " [('court', 'NOUN'), (('orders', 'NOUN'), ('orders', 'VERB'))],\n",
       " [('*-4', 'X'), (('committing', 'CONJ'), ('committing', 'VERB'))],\n",
       " [('act', 'NOUN'), (('that', 'ADP'), ('that', 'DET'))],\n",
       " [('several', 'ADJ'), (('manufacturing', 'NOUN'), ('manufacturing', 'VERB'))],\n",
       " [('operations', 'NOUN'), (('as', 'ADP'), ('as', 'ADV'))],\n",
       " [('as', 'ADP'), (('Pepperidge', 'CONJ'), ('Pepperidge', 'NOUN'))],\n",
       " [('.', '.'), (('Factories', 'CONJ'), ('Factories', 'NOUN'))],\n",
       " [('Factories', 'NOUN'), (('booked', 'CONJ'), ('booked', 'VERB'))],\n",
       " [('$', '.'), (('236.74', 'CONJ'), ('236.74', 'NUM'))],\n",
       " [('$', '.'), (('236.79', 'CONJ'), ('236.79', 'NUM'))],\n",
       " [('provision', 'NOUN'), (('amounts', 'NOUN'), ('amounts', 'VERB'))],\n",
       " [('a', 'DET'), (('one-house', 'CONJ'), ('one-house', 'ADJ'))],\n",
       " [('neither', 'DET'), (('bicameral', 'CONJ'), ('bicameral', 'ADJ'))],\n",
       " [('nor', 'CONJ'), (('presentation', 'CONJ'), ('presentation', 'NOUN'))],\n",
       " [('his', 'PRON'), (('signature', 'CONJ'), ('signature', 'NOUN'))],\n",
       " [('Ward', 'NOUN'), (('resolved', 'CONJ'), ('resolved', 'VERB'))],\n",
       " [('to', 'PRT'), (('clean', 'CONJ'), ('clean', 'VERB'))],\n",
       " [('clean', 'VERB'), (('out', 'ADP'), ('out', 'PRT'))],\n",
       " [('``', '.'), (('deadwood', 'CONJ'), ('deadwood', 'NOUN'))],\n",
       " [('Her', 'PRON'), (('remorse', 'CONJ'), ('remorse', 'NOUN'))],\n",
       " [('was', 'VERB'), (('shallow', 'CONJ'), ('shallow', 'ADJ'))],\n",
       " [('$', '.'), (('13.625', 'CONJ'), ('13.625', 'NUM'))],\n",
       " [('Mary', 'NOUN'), (('Elizabeth', 'CONJ'), ('Elizabeth', 'NOUN'))],\n",
       " [('Elizabeth', 'NOUN'), (('Ariail', 'CONJ'), ('Ariail', 'NOUN'))],\n",
       " [('standing', 'NOUN'), (('high', 'ADJ'), ('high', 'ADV'))],\n",
       " [('job', 'NOUN'), (('that', 'ADP'), ('that', 'DET'))],\n",
       " [(\"n't\", 'ADV'), (('demand', 'NOUN'), ('demand', 'VERB'))],\n",
       " [('in', 'ADP'), (('Hackensack', 'CONJ'), ('Hackensack', 'NOUN'))],\n",
       " [('I', 'PRON'), (('am', 'CONJ'), ('am', 'VERB'))],\n",
       " [('sales', 'NOUN'), (('materialize', 'CONJ'), ('materialize', 'VERB'))],\n",
       " [('$', '.'), (('36', 'CONJ'), ('36', 'NUM'))],\n",
       " [('a', 'DET'), (('seasoned', 'CONJ'), ('seasoned', 'ADJ'))],\n",
       " [('seasoned', 'ADJ'), (('marketer', 'CONJ'), ('marketer', 'NOUN'))],\n",
       " [('good', 'ADJ'), (('rapport', 'CONJ'), ('rapport', 'NOUN'))],\n",
       " [('the', 'DET'), (('Pepperidge', 'CONJ'), ('Pepperidge', 'NOUN'))],\n",
       " [('until', 'ADP'), (('midyear', 'CONJ'), ('midyear', 'NOUN'))],\n",
       " [('*', 'X'), (('Forget', 'CONJ'), ('Forget', 'VERB'))],\n",
       " [('he', 'PRON'), (('handed', 'CONJ'), ('handed', 'VERB'))],\n",
       " [('quarterly', 'ADJ'), (('refunding', 'NOUN'), ('refunding', 'VERB'))],\n",
       " [('rung', 'VERB'), (('*-140', 'CONJ'), ('*-140', 'X'))],\n",
       " [('rural', 'ADJ'), (('parishes', 'CONJ'), ('parishes', 'NOUN'))],\n",
       " [('and', 'CONJ'), (('inner-city', 'CONJ'), ('inner-city', 'NOUN'))],\n",
       " [('and', 'CONJ'), (('marketer', 'CONJ'), ('marketer', 'NOUN'))],\n",
       " [('frozen', 'VERB'), (('noodles', 'CONJ'), ('noodles', 'NOUN'))],\n",
       " [('and', 'CONJ'), (('pre-cooked', 'CONJ'), ('pre-cooked', 'ADJ'))],\n",
       " [('pre-cooked', 'ADJ'), (('pasta', 'CONJ'), ('pasta', 'NOUN'))],\n",
       " [('in', 'ADP'), (('Clive', 'CONJ'), ('Clive', 'NOUN'))],\n",
       " [('of', 'ADP'), (('about', 'ADP'), ('about', 'ADV'))],\n",
       " [('compromise', 'NOUN'), (('sets', 'NOUN'), ('sets', 'VERB'))],\n",
       " [('$', '.'), (('3.61', 'CONJ'), ('3.61', 'NUM'))],\n",
       " [('be', 'VERB'), (('twinned', 'CONJ'), ('twinned', 'VERB'))],\n",
       " [('nearly', 'ADV'), (('complete', 'VERB'), ('complete', 'ADJ'))],\n",
       " [('miles', 'NOUN'), (('upstream', 'CONJ'), ('upstream', 'ADV'))],\n",
       " [('been', 'VERB'), (('reallocated', 'CONJ'), ('reallocated', 'VERB'))],\n",
       " [('remaining', 'VERB'), (('23,403', 'CONJ'), ('23,403', 'NUM'))],\n",
       " [('for', 'ADP'), (('growers', 'CONJ'), ('growers', 'NOUN'))],\n",
       " [('runs', 'VERB'), (('as', 'ADP'), ('as', 'ADV'))]]"
      ]
     },
     "execution_count": 30,
     "metadata": {},
     "output_type": "execute_result"
    }
   ],
   "source": [
    "#Get the words in the test set which are incorrectly classified\n",
    "incorrect_tagged_cases = [[test_run_base[i-1],j] for i, j in enumerate(zip(tagged_seq, test_run_base)) if j[0]!=j[1]]\n",
    "incorrect_tagged_cases"
   ]
  },
  {
   "cell_type": "markdown",
   "metadata": {},
   "source": [
    "Most of the words which are not present in training set are simply assigned the first pos tag in the training pos tagset\n",
    "\n",
    "Let us do the analysis on the test file which we read before"
   ]
  },
  {
   "cell_type": "code",
   "execution_count": 32,
   "metadata": {},
   "outputs": [
    {
     "name": "stderr",
     "output_type": "stream",
     "text": [
      "[nltk_data] Downloading package punkt to\n",
      "[nltk_data]     C:\\Users\\chebrolb\\AppData\\Roaming\\nltk_data...\n",
      "[nltk_data]   Unzipping tokenizers\\punkt.zip.\n"
     ]
    },
    {
     "data": {
      "text/plain": [
       "True"
      ]
     },
     "execution_count": 32,
     "metadata": {},
     "output_type": "execute_result"
    }
   ],
   "source": [
    "nltk.download('punkt')"
   ]
  },
  {
   "cell_type": "code",
   "execution_count": 33,
   "metadata": {},
   "outputs": [
    {
     "data": {
      "text/plain": [
       "[('Android', 'CONJ'),\n",
       " ('is', 'VERB'),\n",
       " ('a', 'DET'),\n",
       " ('mobile', 'ADJ'),\n",
       " ('operating', 'NOUN'),\n",
       " ('system', 'NOUN'),\n",
       " ('developed', 'VERB'),\n",
       " ('by', 'ADP'),\n",
       " ('Google', 'CONJ'),\n",
       " ('.', '.'),\n",
       " ('Android', 'CONJ'),\n",
       " ('has', 'VERB'),\n",
       " ('been', 'VERB'),\n",
       " ('the', 'DET'),\n",
       " ('best-selling', 'CONJ'),\n",
       " ('OS', 'CONJ'),\n",
       " ('worldwide', 'CONJ'),\n",
       " ('on', 'ADP'),\n",
       " ('smartphones', 'CONJ'),\n",
       " ('since', 'ADP'),\n",
       " ('2011', 'CONJ'),\n",
       " ('and', 'CONJ'),\n",
       " ('on', 'ADP'),\n",
       " ('tablets', 'NOUN'),\n",
       " ('since', 'ADP'),\n",
       " ('2013', 'CONJ'),\n",
       " ('.', '.'),\n",
       " ('Google', 'CONJ'),\n",
       " ('and', 'CONJ'),\n",
       " ('Twitter', 'CONJ'),\n",
       " ('made', 'VERB'),\n",
       " ('a', 'DET'),\n",
       " ('deal', 'NOUN'),\n",
       " ('in', 'ADP'),\n",
       " ('2015', 'CONJ'),\n",
       " ('that', 'DET'),\n",
       " ('gave', 'VERB'),\n",
       " ('Google', 'CONJ'),\n",
       " ('access', 'NOUN'),\n",
       " ('to', 'PRT'),\n",
       " ('Twitter', 'CONJ'),\n",
       " (\"'s\", 'VERB'),\n",
       " ('firehose', 'CONJ'),\n",
       " ('.', '.'),\n",
       " ('Twitter', 'CONJ'),\n",
       " ('is', 'VERB'),\n",
       " ('an', 'DET'),\n",
       " ('online', 'CONJ'),\n",
       " ('news', 'NOUN'),\n",
       " ('and', 'CONJ'),\n",
       " ('social', 'ADJ'),\n",
       " ('networking', 'NOUN'),\n",
       " ('service', 'NOUN'),\n",
       " ('on', 'ADP'),\n",
       " ('which', 'DET'),\n",
       " ('users', 'NOUN'),\n",
       " ('post', 'NOUN'),\n",
       " ('and', 'CONJ'),\n",
       " ('interact', 'CONJ'),\n",
       " ('with', 'ADP'),\n",
       " ('messages', 'CONJ'),\n",
       " ('known', 'VERB'),\n",
       " ('as', 'ADP'),\n",
       " ('tweets', 'CONJ'),\n",
       " ('.', '.'),\n",
       " ('Before', 'ADP'),\n",
       " ('entering', 'VERB'),\n",
       " ('politics', 'NOUN'),\n",
       " (',', '.'),\n",
       " ('Donald', 'NOUN'),\n",
       " ('Trump', 'NOUN'),\n",
       " ('was', 'VERB'),\n",
       " ('a', 'DET'),\n",
       " ('domineering', 'CONJ'),\n",
       " ('businessman', 'NOUN'),\n",
       " ('and', 'CONJ'),\n",
       " ('a', 'DET'),\n",
       " ('television', 'NOUN'),\n",
       " ('personality', 'CONJ'),\n",
       " ('.', '.'),\n",
       " ('The', 'DET'),\n",
       " ('2018', 'CONJ'),\n",
       " ('FIFA', 'CONJ'),\n",
       " ('World', 'NOUN'),\n",
       " ('Cup', 'CONJ'),\n",
       " ('is', 'VERB'),\n",
       " ('the', 'DET'),\n",
       " ('21st', 'CONJ'),\n",
       " ('FIFA', 'CONJ'),\n",
       " ('World', 'NOUN'),\n",
       " ('Cup', 'CONJ'),\n",
       " (',', '.'),\n",
       " ('an', 'DET'),\n",
       " ('international', 'ADJ'),\n",
       " ('football', 'NOUN'),\n",
       " ('tournament', 'CONJ'),\n",
       " ('contested', 'CONJ'),\n",
       " ('once', 'ADV'),\n",
       " ('every', 'DET'),\n",
       " ('four', 'NUM'),\n",
       " ('years', 'NOUN'),\n",
       " ('.', '.'),\n",
       " ('This', 'DET'),\n",
       " ('is', 'VERB'),\n",
       " ('the', 'DET'),\n",
       " ('first', 'ADJ'),\n",
       " ('World', 'NOUN'),\n",
       " ('Cup', 'CONJ'),\n",
       " ('to', 'PRT'),\n",
       " ('be', 'VERB'),\n",
       " ('held', 'VERB'),\n",
       " ('in', 'ADP'),\n",
       " ('Eastern', 'NOUN'),\n",
       " ('Europe', 'NOUN'),\n",
       " ('and', 'CONJ'),\n",
       " ('the', 'DET'),\n",
       " ('11th', 'ADJ'),\n",
       " ('time', 'NOUN'),\n",
       " ('that', 'ADP'),\n",
       " ('it', 'PRON'),\n",
       " ('has', 'VERB'),\n",
       " ('been', 'VERB'),\n",
       " ('held', 'VERB'),\n",
       " ('in', 'ADP'),\n",
       " ('Europe', 'NOUN'),\n",
       " ('.', '.'),\n",
       " ('Show', 'NOUN'),\n",
       " ('me', 'PRON'),\n",
       " ('the', 'DET'),\n",
       " ('cheapest', 'ADJ'),\n",
       " ('round', 'NOUN'),\n",
       " ('trips', 'CONJ'),\n",
       " ('from', 'ADP'),\n",
       " ('Dallas', 'NOUN'),\n",
       " ('to', 'PRT'),\n",
       " ('Atlanta', 'NOUN'),\n",
       " ('I', 'PRON'),\n",
       " ('would', 'VERB'),\n",
       " ('like', 'ADP'),\n",
       " ('to', 'PRT'),\n",
       " ('see', 'VERB'),\n",
       " ('flights', 'NOUN'),\n",
       " ('from', 'ADP'),\n",
       " ('Denver', 'NOUN'),\n",
       " ('to', 'PRT'),\n",
       " ('Philadelphia', 'NOUN'),\n",
       " ('.', '.'),\n",
       " ('Show', 'NOUN'),\n",
       " ('me', 'PRON'),\n",
       " ('the', 'DET'),\n",
       " ('price', 'NOUN'),\n",
       " ('of', 'ADP'),\n",
       " ('the', 'DET'),\n",
       " ('flights', 'NOUN'),\n",
       " ('leaving', 'VERB'),\n",
       " ('Atlanta', 'NOUN'),\n",
       " ('at', 'ADP'),\n",
       " ('about', 'ADP'),\n",
       " ('3', 'NUM'),\n",
       " ('in', 'ADP'),\n",
       " ('the', 'DET'),\n",
       " ('afternoon', 'NOUN'),\n",
       " ('and', 'CONJ'),\n",
       " ('arriving', 'CONJ'),\n",
       " ('in', 'ADP'),\n",
       " ('San', 'NOUN'),\n",
       " ('Francisco', 'NOUN'),\n",
       " ('.', '.'),\n",
       " ('NASA', 'CONJ'),\n",
       " ('invited', 'CONJ'),\n",
       " ('social', 'ADJ'),\n",
       " ('media', 'NOUN'),\n",
       " ('users', 'NOUN'),\n",
       " ('to', 'PRT'),\n",
       " ('experience', 'NOUN'),\n",
       " ('the', 'DET'),\n",
       " ('launch', 'NOUN'),\n",
       " ('of', 'ADP'),\n",
       " ('ICESAT-2', 'CONJ'),\n",
       " ('Satellite', 'CONJ'),\n",
       " ('.', '.')]"
      ]
     },
     "execution_count": 33,
     "metadata": {},
     "output_type": "execute_result"
    }
   ],
   "source": [
    "#Get the predictions on the test sentences\n",
    "sample_pred_list =[]\n",
    "for line in test_lines:\n",
    "    sample_pred_list=sample_pred_list+list(Viterbi(word_tokenize(line)))\n",
    "sample_pred_list"
   ]
  },
  {
   "cell_type": "markdown",
   "metadata": {},
   "source": [
    "For words like 'Android','Google' the first tag in the training pos tagset is given. Let us see if these words exist in the training corpus "
   ]
  },
  {
   "cell_type": "code",
   "execution_count": 34,
   "metadata": {},
   "outputs": [],
   "source": [
    "# Get tokens in the test file\n",
    "sample_words=[tokens for line in test_lines for tokens in word_tokenize(line)]"
   ]
  },
  {
   "cell_type": "code",
   "execution_count": 35,
   "metadata": {},
   "outputs": [
    {
     "data": {
      "text/plain": [
       "['domineering',\n",
       " 'tweets',\n",
       " 'FIFA',\n",
       " 'OS',\n",
       " 'firehose',\n",
       " 'personality',\n",
       " 'tournament',\n",
       " 'best-selling',\n",
       " 'invited',\n",
       " 'arriving',\n",
       " 'Android',\n",
       " 'Twitter',\n",
       " '2015',\n",
       " '2011',\n",
       " 'Satellite',\n",
       " 'online',\n",
       " 'trips',\n",
       " '21st',\n",
       " '2013',\n",
       " 'NASA',\n",
       " 'smartphones',\n",
       " 'worldwide',\n",
       " 'ICESAT-2',\n",
       " 'contested',\n",
       " 'messages',\n",
       " '2018',\n",
       " 'interact',\n",
       " 'Google',\n",
       " 'Cup']"
      ]
     },
     "execution_count": 35,
     "metadata": {},
     "output_type": "execute_result"
    }
   ],
   "source": [
    "#Get list of words which are present in test lines but not in the training corpus\n",
    "words_not_in_corpus = list(set(sample_words) - set(tokens))\n",
    "words_not_in_corpus"
   ]
  },
  {
   "cell_type": "markdown",
   "metadata": {},
   "source": [
    "Clearly the words like 'Google','Android','Fifa' are not present in the training set and they are all tagged default tags. "
   ]
  },
  {
   "cell_type": "code",
   "execution_count": 36,
   "metadata": {},
   "outputs": [
    {
     "data": {
      "text/plain": [
       "[('Android', 'CONJ'),\n",
       " ('Google', 'CONJ'),\n",
       " ('Android', 'CONJ'),\n",
       " ('best-selling', 'CONJ'),\n",
       " ('OS', 'CONJ'),\n",
       " ('worldwide', 'CONJ'),\n",
       " ('smartphones', 'CONJ'),\n",
       " ('2011', 'CONJ'),\n",
       " ('2013', 'CONJ'),\n",
       " ('Google', 'CONJ'),\n",
       " ('Twitter', 'CONJ'),\n",
       " ('2015', 'CONJ'),\n",
       " ('Google', 'CONJ'),\n",
       " ('Twitter', 'CONJ'),\n",
       " ('firehose', 'CONJ'),\n",
       " ('Twitter', 'CONJ'),\n",
       " ('online', 'CONJ'),\n",
       " ('interact', 'CONJ'),\n",
       " ('messages', 'CONJ'),\n",
       " ('tweets', 'CONJ'),\n",
       " ('domineering', 'CONJ'),\n",
       " ('personality', 'CONJ'),\n",
       " ('2018', 'CONJ'),\n",
       " ('FIFA', 'CONJ'),\n",
       " ('Cup', 'CONJ'),\n",
       " ('21st', 'CONJ'),\n",
       " ('FIFA', 'CONJ'),\n",
       " ('Cup', 'CONJ'),\n",
       " ('tournament', 'CONJ'),\n",
       " ('contested', 'CONJ'),\n",
       " ('Cup', 'CONJ'),\n",
       " ('trips', 'CONJ'),\n",
       " ('arriving', 'CONJ'),\n",
       " ('NASA', 'CONJ'),\n",
       " ('invited', 'CONJ'),\n",
       " ('ICESAT-2', 'CONJ'),\n",
       " ('Satellite', 'CONJ')]"
      ]
     },
     "execution_count": 36,
     "metadata": {},
     "output_type": "execute_result"
    }
   ],
   "source": [
    "#Get the tags predicted for unknown words\n",
    "[tup for tup in sample_pred_list for word in words_not_in_corpus if tup[0]==word ]"
   ]
  },
  {
   "cell_type": "code",
   "execution_count": 37,
   "metadata": {},
   "outputs": [
    {
     "data": {
      "text/plain": [
       "Counter({'NOUN': 27390,\n",
       "         'PRT': 3041,\n",
       "         'ADJ': 6052,\n",
       "         'VERB': 12891,\n",
       "         'ADV': 2991,\n",
       "         'X': 6296,\n",
       "         'DET': 8312,\n",
       "         '.': 11118,\n",
       "         'NUM': 3371,\n",
       "         'ADP': 9380,\n",
       "         'CONJ': 2158,\n",
       "         'PRON': 2596})"
      ]
     },
     "execution_count": 37,
     "metadata": {},
     "output_type": "execute_result"
    }
   ],
   "source": [
    "#Let us see the count of all tags in the training set\n",
    "from collections import Counter\n",
    "tag_counts = Counter(pair[1] for pair in train_tagged_words)\n",
    "tag_counts"
   ]
  },
  {
   "cell_type": "code",
   "execution_count": 38,
   "metadata": {},
   "outputs": [
    {
     "data": {
      "text/plain": [
       "[('NOUN', 27390), ('VERB', 12891), ('.', 11118), ('ADP', 9380), ('DET', 8312)]"
      ]
     },
     "execution_count": 38,
     "metadata": {},
     "output_type": "execute_result"
    }
   ],
   "source": [
    "# see most common tags can in the training corpus\n",
    "tag_counts.most_common(5)"
   ]
  },
  {
   "cell_type": "code",
   "execution_count": 39,
   "metadata": {},
   "outputs": [
    {
     "data": {
      "text/plain": [
       "Counter({'CONJ': 361,\n",
       "         'NOUN': 31,\n",
       "         'ADV': 17,\n",
       "         'PRT': 6,\n",
       "         'ADP': 24,\n",
       "         'DET': 10,\n",
       "         'VERB': 22,\n",
       "         'ADJ': 24,\n",
       "         'X': 1})"
      ]
     },
     "execution_count": 39,
     "metadata": {},
     "output_type": "execute_result"
    }
   ],
   "source": [
    "#Lets see count of incorrectly classfied words for each tag\n",
    "wrong_tag_counts = Counter(pair[1][0][1] for pair in incorrect_tagged_cases)\n",
    "wrong_tag_counts"
   ]
  },
  {
   "cell_type": "code",
   "execution_count": 40,
   "metadata": {},
   "outputs": [
    {
     "name": "stdout",
     "output_type": "stream",
     "text": [
      "0.20727639438367854\n"
     ]
    },
    {
     "data": {
      "text/plain": [
       "[('worked', 'VERB'),\n",
       " ('used', 'VERB'),\n",
       " ('based', 'VERB'),\n",
       " ('orchestrated', 'VERB'),\n",
       " ('totaled', 'VERB'),\n",
       " ('seemed', 'VERB'),\n",
       " ('ordered', 'VERB'),\n",
       " ('received', 'VERB'),\n",
       " ('moved', 'VERB'),\n",
       " ('opened', 'VERB'),\n",
       " ('wanted', 'VERB'),\n",
       " ('expected', 'VERB'),\n",
       " ('slipped', 'VERB'),\n",
       " ('altered', 'VERB'),\n",
       " ('removed', 'VERB'),\n",
       " ('slipped', 'VERB'),\n",
       " ('disclosed', 'VERB'),\n",
       " ('listed', 'VERB'),\n",
       " ('devoted', 'VERB'),\n",
       " ('adjusted', 'VERB')]"
      ]
     },
     "execution_count": 40,
     "metadata": {},
     "output_type": "execute_result"
    }
   ],
   "source": [
    "# Let us see the percentage of verbs which are classifed as 'verb which end with 'ed'\n",
    "verbs = [pair for pair in train_tagged_words if pair[1]=='VERB']\n",
    "ed_verbs = [pair for pair in verbs if pair[0].endswith('ed')]\n",
    "print(len(ed_verbs) / len(verbs))\n",
    "ed_verbs[:20]"
   ]
  },
  {
   "cell_type": "markdown",
   "metadata": {},
   "source": [
    "Around 20% of words which end with 'ed' are verbs. Though it is 20% it is high because this is universal tagset and Verbs contain all the forms of verbs"
   ]
  },
  {
   "cell_type": "code",
   "execution_count": 41,
   "metadata": {},
   "outputs": [
    {
     "name": "stdout",
     "output_type": "stream",
     "text": [
      "0.10883562175160966\n"
     ]
    },
    {
     "data": {
      "text/plain": [
       "[('making', 'VERB'),\n",
       " ('appealing', 'VERB'),\n",
       " ('underlying', 'VERB'),\n",
       " ('considering', 'VERB'),\n",
       " ('appealing', 'VERB'),\n",
       " ('according', 'VERB'),\n",
       " ('keeping', 'VERB'),\n",
       " ('trying', 'VERB'),\n",
       " ('including', 'VERB'),\n",
       " ('enabling', 'VERB'),\n",
       " ('building', 'VERB'),\n",
       " ('claiming', 'VERB'),\n",
       " ('watching', 'VERB'),\n",
       " ('failing', 'VERB'),\n",
       " ('transferring', 'VERB'),\n",
       " ('continuing', 'VERB'),\n",
       " ('according', 'VERB'),\n",
       " ('controlling', 'VERB'),\n",
       " ('according', 'VERB'),\n",
       " ('driving', 'VERB')]"
      ]
     },
     "execution_count": 41,
     "metadata": {},
     "output_type": "execute_result"
    }
   ],
   "source": [
    "# Let us see the percentage of verbs which are classifed as 'verb which end with 'ing'\n",
    "verbs = [pair for pair in train_tagged_words if pair[1]=='VERB']\n",
    "ing_verbs = [pair for pair in verbs if pair[0].endswith('ing')]\n",
    "print(len(ing_verbs) / len(verbs))\n",
    "ing_verbs[:20]"
   ]
  },
  {
   "cell_type": "code",
   "execution_count": 42,
   "metadata": {},
   "outputs": [
    {
     "name": "stdout",
     "output_type": "stream",
     "text": [
      "6052\n",
      "4233\n",
      "0.699438202247191\n"
     ]
    }
   ],
   "source": [
    "#Lets see percentage of Adjective tags followed by nouns\n",
    "# create a list of all tags (without the words)\n",
    "tags = [pair[1] for pair in train_tagged_words]\n",
    "\n",
    "# create a list of Adj tags\n",
    "adj_tags = [t for t in tags if t == 'ADJ']\n",
    "\n",
    "# create a list of (ADJ, Noun) tags\n",
    "adj_noun_tags = [(t, tags[index+1]) for index, t in enumerate(tags) \n",
    "              if t=='ADJ' and tags[index+1]=='NOUN']\n",
    "\n",
    "print(len(adj_tags))\n",
    "print(len(adj_noun_tags))\n",
    "print(len(adj_noun_tags) / len(adj_tags))"
   ]
  },
  {
   "cell_type": "markdown",
   "metadata": {},
   "source": [
    "Around 70% of adjectives are followed by Nouns"
   ]
  },
  {
   "cell_type": "code",
   "execution_count": 43,
   "metadata": {},
   "outputs": [
    {
     "name": "stdout",
     "output_type": "stream",
     "text": [
      "8312\n",
      "5301\n",
      "0.637752646775746\n"
     ]
    }
   ],
   "source": [
    "#Lets see percentage of Determinent tags followed by nouns\n",
    "dt_tags = [t for t in tags if t == 'DET']\n",
    "dt_noun_tags = [(t, tags[index+1]) for index, t in enumerate(tags) \n",
    "              if t=='DET' and tags[index+1]=='NOUN']\n",
    "\n",
    "print(len(dt_tags))\n",
    "print(len(dt_noun_tags))\n",
    "print(len(dt_noun_tags) / len(dt_tags))"
   ]
  },
  {
   "cell_type": "markdown",
   "metadata": {},
   "source": [
    "Around 63% of determinants are followed by Nouns"
   ]
  },
  {
   "cell_type": "code",
   "execution_count": 44,
   "metadata": {},
   "outputs": [
    {
     "name": "stdout",
     "output_type": "stream",
     "text": [
      "2991\n",
      "1038\n",
      "0.34704112337011034\n"
     ]
    }
   ],
   "source": [
    "#Lets see percentage of Adverbs tags followed by Verbs\n",
    "adv_tags = [t for t in tags if t == 'ADV']\n",
    "adv_vb_tags = [(t, tags[index+1]) for index, t in enumerate(tags) \n",
    "              if t=='ADV' and tags[index+1]=='VERB']\n",
    "\n",
    "print(len(adv_tags))\n",
    "print(len(adv_vb_tags))\n",
    "print(len(adv_vb_tags) / len(adv_tags))"
   ]
  },
  {
   "cell_type": "markdown",
   "metadata": {},
   "source": [
    "Around 35% of adverbs are followed by verbs"
   ]
  },
  {
   "cell_type": "markdown",
   "metadata": {},
   "source": [
    "Lets use the EDA done above and also grammar to build our rules for regex based tagger"
   ]
  },
  {
   "cell_type": "code",
   "execution_count": 45,
   "metadata": {},
   "outputs": [],
   "source": [
    "# specify patterns for tagging\n",
    "patterns = [\n",
    "    (r'.*ing$', 'VERB'),                # gerund\n",
    "    (r'.*ed$', 'VERB'),                 # past tense verbs\n",
    "    (r'.*es$', 'VERB'),                 # singular present verbs\n",
    "    (r'.*ould$', 'VERB'),               # modal verbs\n",
    "    (r'.*\\'s$', 'NOUN'),                # possessive nouns\n",
    "    (r'.*s$', 'NOUN'),                  # plural nouns\n",
    "    (r'^-?[0-9]+(.[0-9]+)?$', 'NUM'),   # cardinal numbers\n",
    "    (r'(The|the|A|a|An|an)$', 'DET'),   # articles or determinants\n",
    "    (r'.*able$', 'ADJ'),                # adjectives\n",
    "    (r'.*ness$', 'NOUN'),               # nouns formed from adjectives\n",
    "    (r'.*ly$', 'ADV'),                  # adverbs\n",
    "    (r'.*', 'NOUN')                     # nouns\n",
    "]"
   ]
  },
  {
   "cell_type": "code",
   "execution_count": 46,
   "metadata": {},
   "outputs": [
    {
     "data": {
      "text/plain": [
       "0.9488188976377953"
      ]
     },
     "execution_count": 46,
     "metadata": {},
     "output_type": "execute_result"
    }
   ],
   "source": [
    "# rule based tagger\n",
    "rule_based_tagger = nltk.RegexpTagger(patterns)\n",
    "\n",
    "# lexicon backed up by the rule-based tagger\n",
    "lexicon_tagger = nltk.UnigramTagger(train_set, backoff=rule_based_tagger)\n",
    "\n",
    "lexicon_tagger.evaluate(test_set)"
   ]
  },
  {
   "cell_type": "markdown",
   "metadata": {},
   "source": [
    "For a Unigram lexicon tagger backed up by a rule based tagger the accuracy is around 94%. Let us improve it further by using N-gram taggers"
   ]
  },
  {
   "cell_type": "markdown",
   "metadata": {},
   "source": [
    "#### Evaluating tagging accuracy"
   ]
  },
  {
   "cell_type": "code",
   "execution_count": 47,
   "metadata": {},
   "outputs": [],
   "source": [
    "#Trigram tagger backed by Bigram backed by Unigram which is backed by rule based tagger\n",
    "t0 = nltk.RegexpTagger(patterns)\n",
    "t1 = nltk.UnigramTagger(train_set, backoff=t0)\n",
    "t2 = nltk.BigramTagger(train_set, backoff=t1)\n",
    "t3 = nltk.TrigramTagger(train_set, backoff=t2)"
   ]
  },
  {
   "cell_type": "markdown",
   "metadata": {},
   "source": [
    "Let us use Brill algorithm as a base algorithm backed by the tagger created above"
   ]
  },
  {
   "cell_type": "code",
   "execution_count": 48,
   "metadata": {},
   "outputs": [],
   "source": [
    "#Import libraries for brill\n",
    "import nltk.tag\n",
    "from nltk.tag import brill\n",
    "from nltk.tag.brill import *\n",
    "from nltk.tbl.template import Template\n",
    "from nltk.tag import BrillTaggerTrainer\n",
    "\n",
    "#Clear existing templates if any\n",
    "Template._cleartemplates()\n",
    "\n",
    "#Load the fntbl37 template\n",
    "templates = fntbl37()\n",
    " \n",
    "#Train the Brill model\n",
    "trainer = BrillTaggerTrainer(t3, templates)\n",
    "brill_tagger = trainer.train(train_set, max_rules=100, min_score=3)"
   ]
  },
  {
   "cell_type": "markdown",
   "metadata": {},
   "source": [
    "The state probabilities for unknown words become zero and hence the Viterbi algorithm updates the unknown words by default with the first tag in the training set.\n",
    "\n",
    "Now lets modify the Viterbi algorithm such that when the state probabilities become zero it updates the tag based on the tagger we created above"
   ]
  },
  {
   "cell_type": "code",
   "execution_count": 49,
   "metadata": {},
   "outputs": [],
   "source": [
    "# Viterbi Heuristic\n",
    "def Viterbi_updated(words, train_bag = train_tagged_words):\n",
    "    state = []\n",
    "    T = list(set([pair[1] for pair in train_bag]))\n",
    "    \n",
    "    for key, word in enumerate(words):\n",
    "        #initialise list of probability column for a given observation\n",
    "        p = [] \n",
    "        for tag in T:\n",
    "            if key == 0:\n",
    "                transition_p = tags_df.loc['.', tag]\n",
    "            else:\n",
    "                transition_p = tags_df.loc[state[-1], tag]\n",
    "                \n",
    "            # compute emission and state probabilities\n",
    "            emission_p = word_given_tag(words[key], tag)[0]/word_given_tag(words[key], tag)[1]\n",
    "            state_probability = emission_p * transition_p    \n",
    "            p.append(state_probability)\n",
    "            \n",
    "        pmax = max(p)\n",
    "       \n",
    "        #Check if state probability is zero\n",
    "        if(pmax==0.0):\n",
    "            #If state probability is zero i.e if the word is unknown if updates the tag based on the brill tagger\n",
    "            state_max = brill_tagger.tag([word])[0][1]\n",
    "        else:\n",
    "            # getting state for which probability is maximum\n",
    "            state_max = T[p.index(pmax)] \n",
    "        state.append(state_max)\n",
    "    return list(zip(words, state))"
   ]
  },
  {
   "cell_type": "markdown",
   "metadata": {},
   "source": [
    "### Compare the tagging accuracies of the modifications with the vanilla Viterbi algorithm"
   ]
  },
  {
   "cell_type": "code",
   "execution_count": 50,
   "metadata": {},
   "outputs": [
    {
     "name": "stdout",
     "output_type": "stream",
     "text": [
      "693.2489144802094\n"
     ]
    }
   ],
   "source": [
    "# tagging the test sentences with the updated Viterbi algorithm\n",
    "start = time.time()\n",
    "updated_tagged_seq = Viterbi_updated(test_tagged_words)\n",
    "end = time.time()\n",
    "difference = end-start\n",
    "#Print total time taken to train the algorithm\n",
    "print(difference)"
   ]
  },
  {
   "cell_type": "markdown",
   "metadata": {},
   "source": []
  },
  {
   "cell_type": "code",
   "execution_count": 51,
   "metadata": {},
   "outputs": [
    {
     "data": {
      "text/plain": [
       "0.955511811023622"
      ]
     },
     "execution_count": 51,
     "metadata": {},
     "output_type": "execute_result"
    }
   ],
   "source": [
    "# Calculate the accuracy for the updated Viterbi algorithm\n",
    "check = [i for i, j in zip(updated_tagged_seq, test_run_base) if i == j] \n",
    "accuracy = len(check)/len(updated_tagged_seq)\n",
    "accuracy"
   ]
  },
  {
   "cell_type": "markdown",
   "metadata": {},
   "source": [
    "Accuracy is increased much by the updated Viterbi algorithm"
   ]
  },
  {
   "cell_type": "markdown",
   "metadata": {},
   "source": [
    "### List down cases which were incorrectly tagged by original POS tagger and got corrected by your modifications"
   ]
  },
  {
   "cell_type": "code",
   "execution_count": 52,
   "metadata": {},
   "outputs": [
    {
     "name": "stdout",
     "output_type": "stream",
     "text": [
      "[('Android', 'CONJ'), ('is', 'VERB'), ('a', 'DET'), ('mobile', 'ADJ'), ('operating', 'NOUN'), ('system', 'NOUN'), ('developed', 'VERB'), ('by', 'ADP'), ('Google', 'CONJ'), ('.', '.')]\n",
      "[('Android', 'CONJ'), ('has', 'VERB'), ('been', 'VERB'), ('the', 'DET'), ('best-selling', 'CONJ'), ('OS', 'CONJ'), ('worldwide', 'CONJ'), ('on', 'ADP'), ('smartphones', 'CONJ'), ('since', 'ADP'), ('2011', 'CONJ'), ('and', 'CONJ'), ('on', 'ADP'), ('tablets', 'NOUN'), ('since', 'ADP'), ('2013', 'CONJ'), ('.', '.')]\n",
      "[('Google', 'CONJ'), ('and', 'CONJ'), ('Twitter', 'CONJ'), ('made', 'VERB'), ('a', 'DET'), ('deal', 'NOUN'), ('in', 'ADP'), ('2015', 'CONJ'), ('that', 'DET'), ('gave', 'VERB'), ('Google', 'CONJ'), ('access', 'NOUN'), ('to', 'PRT'), ('Twitter', 'CONJ'), (\"'s\", 'VERB'), ('firehose', 'CONJ'), ('.', '.')]\n",
      "[('Twitter', 'CONJ'), ('is', 'VERB'), ('an', 'DET'), ('online', 'CONJ'), ('news', 'NOUN'), ('and', 'CONJ'), ('social', 'ADJ'), ('networking', 'NOUN'), ('service', 'NOUN'), ('on', 'ADP'), ('which', 'DET'), ('users', 'NOUN'), ('post', 'NOUN'), ('and', 'CONJ'), ('interact', 'CONJ'), ('with', 'ADP'), ('messages', 'CONJ'), ('known', 'VERB'), ('as', 'ADP'), ('tweets', 'CONJ'), ('.', '.')]\n",
      "[('Before', 'ADP'), ('entering', 'VERB'), ('politics', 'NOUN'), (',', '.'), ('Donald', 'NOUN'), ('Trump', 'NOUN'), ('was', 'VERB'), ('a', 'DET'), ('domineering', 'CONJ'), ('businessman', 'NOUN'), ('and', 'CONJ'), ('a', 'DET'), ('television', 'NOUN'), ('personality', 'CONJ'), ('.', '.')]\n",
      "[('The', 'DET'), ('2018', 'CONJ'), ('FIFA', 'CONJ'), ('World', 'NOUN'), ('Cup', 'CONJ'), ('is', 'VERB'), ('the', 'DET'), ('21st', 'CONJ'), ('FIFA', 'CONJ'), ('World', 'NOUN'), ('Cup', 'CONJ'), (',', '.'), ('an', 'DET'), ('international', 'ADJ'), ('football', 'NOUN'), ('tournament', 'CONJ'), ('contested', 'CONJ'), ('once', 'ADV'), ('every', 'DET'), ('four', 'NUM'), ('years', 'NOUN'), ('.', '.')]\n",
      "[('This', 'DET'), ('is', 'VERB'), ('the', 'DET'), ('first', 'ADJ'), ('World', 'NOUN'), ('Cup', 'CONJ'), ('to', 'PRT'), ('be', 'VERB'), ('held', 'VERB'), ('in', 'ADP'), ('Eastern', 'NOUN'), ('Europe', 'NOUN'), ('and', 'CONJ'), ('the', 'DET'), ('11th', 'ADJ'), ('time', 'NOUN'), ('that', 'ADP'), ('it', 'PRON'), ('has', 'VERB'), ('been', 'VERB'), ('held', 'VERB'), ('in', 'ADP'), ('Europe', 'NOUN'), ('.', '.')]\n",
      "[('Show', 'NOUN'), ('me', 'PRON'), ('the', 'DET'), ('cheapest', 'ADJ'), ('round', 'NOUN'), ('trips', 'CONJ'), ('from', 'ADP'), ('Dallas', 'NOUN'), ('to', 'PRT'), ('Atlanta', 'NOUN')]\n",
      "[('I', 'PRON'), ('would', 'VERB'), ('like', 'ADP'), ('to', 'PRT'), ('see', 'VERB'), ('flights', 'NOUN'), ('from', 'ADP'), ('Denver', 'NOUN'), ('to', 'PRT'), ('Philadelphia', 'NOUN'), ('.', '.')]\n",
      "[('Show', 'NOUN'), ('me', 'PRON'), ('the', 'DET'), ('price', 'NOUN'), ('of', 'ADP'), ('the', 'DET'), ('flights', 'NOUN'), ('leaving', 'VERB'), ('Atlanta', 'NOUN'), ('at', 'ADP'), ('about', 'ADP'), ('3', 'NUM'), ('in', 'ADP'), ('the', 'DET'), ('afternoon', 'NOUN'), ('and', 'CONJ'), ('arriving', 'CONJ'), ('in', 'ADP'), ('San', 'NOUN'), ('Francisco', 'NOUN'), ('.', '.')]\n",
      "[('NASA', 'CONJ'), ('invited', 'CONJ'), ('social', 'ADJ'), ('media', 'NOUN'), ('users', 'NOUN'), ('to', 'PRT'), ('experience', 'NOUN'), ('the', 'DET'), ('launch', 'NOUN'), ('of', 'ADP'), ('ICESAT-2', 'CONJ'), ('Satellite', 'CONJ'), ('.', '.')]\n"
     ]
    }
   ],
   "source": [
    "#print the test lines with the initial Viterbi algorithm\n",
    "for line in test_lines:\n",
    "    print(list(Viterbi(word_tokenize(line))))"
   ]
  },
  {
   "cell_type": "code",
   "execution_count": 53,
   "metadata": {},
   "outputs": [
    {
     "name": "stdout",
     "output_type": "stream",
     "text": [
      "[('Android', 'NOUN'), ('is', 'VERB'), ('a', 'DET'), ('mobile', 'ADJ'), ('operating', 'NOUN'), ('system', 'NOUN'), ('developed', 'VERB'), ('by', 'ADP'), ('Google', 'NOUN'), ('.', '.')]\n",
      "[('Android', 'NOUN'), ('has', 'VERB'), ('been', 'VERB'), ('the', 'DET'), ('best-selling', 'VERB'), ('OS', 'NOUN'), ('worldwide', 'NOUN'), ('on', 'ADP'), ('smartphones', 'VERB'), ('since', 'ADP'), ('2011', 'NUM'), ('and', 'CONJ'), ('on', 'ADP'), ('tablets', 'NOUN'), ('since', 'ADP'), ('2013', 'NUM'), ('.', '.')]\n",
      "[('Google', 'NOUN'), ('and', 'CONJ'), ('Twitter', 'NOUN'), ('made', 'VERB'), ('a', 'DET'), ('deal', 'NOUN'), ('in', 'ADP'), ('2015', 'NUM'), ('that', 'ADP'), ('gave', 'VERB'), ('Google', 'NOUN'), ('access', 'NOUN'), ('to', 'PRT'), ('Twitter', 'NOUN'), (\"'s\", 'PRT'), ('firehose', 'NOUN'), ('.', '.')]\n",
      "[('Twitter', 'NOUN'), ('is', 'VERB'), ('an', 'DET'), ('online', 'NOUN'), ('news', 'NOUN'), ('and', 'CONJ'), ('social', 'ADJ'), ('networking', 'NOUN'), ('service', 'NOUN'), ('on', 'ADP'), ('which', 'DET'), ('users', 'NOUN'), ('post', 'NOUN'), ('and', 'CONJ'), ('interact', 'NOUN'), ('with', 'ADP'), ('messages', 'VERB'), ('known', 'VERB'), ('as', 'ADP'), ('tweets', 'NOUN'), ('.', '.')]\n",
      "[('Before', 'ADP'), ('entering', 'VERB'), ('politics', 'NOUN'), (',', '.'), ('Donald', 'NOUN'), ('Trump', 'NOUN'), ('was', 'VERB'), ('a', 'DET'), ('domineering', 'VERB'), ('businessman', 'NOUN'), ('and', 'CONJ'), ('a', 'DET'), ('television', 'NOUN'), ('personality', 'NOUN'), ('.', '.')]\n",
      "[('The', 'DET'), ('2018', 'NUM'), ('FIFA', 'NOUN'), ('World', 'NOUN'), ('Cup', 'NOUN'), ('is', 'VERB'), ('the', 'DET'), ('21st', 'NOUN'), ('FIFA', 'NOUN'), ('World', 'NOUN'), ('Cup', 'NOUN'), (',', '.'), ('an', 'DET'), ('international', 'ADJ'), ('football', 'NOUN'), ('tournament', 'NOUN'), ('contested', 'VERB'), ('once', 'ADV'), ('every', 'DET'), ('four', 'NUM'), ('years', 'NOUN'), ('.', '.')]\n",
      "[('This', 'DET'), ('is', 'VERB'), ('the', 'DET'), ('first', 'ADJ'), ('World', 'NOUN'), ('Cup', 'NOUN'), ('to', 'PRT'), ('be', 'VERB'), ('held', 'VERB'), ('in', 'ADP'), ('Eastern', 'NOUN'), ('Europe', 'NOUN'), ('and', 'CONJ'), ('the', 'DET'), ('11th', 'ADJ'), ('time', 'NOUN'), ('that', 'ADP'), ('it', 'PRON'), ('has', 'VERB'), ('been', 'VERB'), ('held', 'VERB'), ('in', 'ADP'), ('Europe', 'NOUN'), ('.', '.')]\n",
      "[('Show', 'NOUN'), ('me', 'PRON'), ('the', 'DET'), ('cheapest', 'ADJ'), ('round', 'NOUN'), ('trips', 'NOUN'), ('from', 'ADP'), ('Dallas', 'NOUN'), ('to', 'PRT'), ('Atlanta', 'NOUN')]\n",
      "[('I', 'PRON'), ('would', 'VERB'), ('like', 'ADP'), ('to', 'PRT'), ('see', 'VERB'), ('flights', 'NOUN'), ('from', 'ADP'), ('Denver', 'NOUN'), ('to', 'PRT'), ('Philadelphia', 'NOUN'), ('.', '.')]\n",
      "[('Show', 'NOUN'), ('me', 'PRON'), ('the', 'DET'), ('price', 'NOUN'), ('of', 'ADP'), ('the', 'DET'), ('flights', 'NOUN'), ('leaving', 'VERB'), ('Atlanta', 'NOUN'), ('at', 'ADP'), ('about', 'ADP'), ('3', 'NUM'), ('in', 'ADP'), ('the', 'DET'), ('afternoon', 'NOUN'), ('and', 'CONJ'), ('arriving', 'VERB'), ('in', 'ADP'), ('San', 'NOUN'), ('Francisco', 'NOUN'), ('.', '.')]\n",
      "[('NASA', 'NOUN'), ('invited', 'VERB'), ('social', 'ADJ'), ('media', 'NOUN'), ('users', 'NOUN'), ('to', 'PRT'), ('experience', 'NOUN'), ('the', 'DET'), ('launch', 'NOUN'), ('of', 'ADP'), ('ICESAT-2', 'NOUN'), ('Satellite', 'NOUN'), ('.', '.')]\n"
     ]
    }
   ],
   "source": [
    "#print the test lines with the updated Viterbi algorithm\n",
    "for line in test_lines:\n",
    "    print(list(Viterbi_updated(word_tokenize(line))))"
   ]
  },
  {
   "cell_type": "markdown",
   "metadata": {},
   "source": [
    "The following sentences are corrected by the modified viterbi algorithm"
   ]
  },
  {
   "cell_type": "markdown",
   "metadata": {},
   "source": [
    "##### 'Android is a mobile operating system developed by Google.'"
   ]
  },
  {
   "cell_type": "markdown",
   "metadata": {},
   "source": [
    "Here 'Android', 'Google' are unknown words and are incorrectly tagged in the initial viterbi algorithm. However with the updated Viterbi algorithm 'Android' and 'Google' are correctly classified as Nouns though they are unknown words"
   ]
  },
  {
   "cell_type": "markdown",
   "metadata": {},
   "source": [
    "###### 'Android has been the best-selling OS worldwide on smartphones since 2011 and on tablets since 2013.'"
   ]
  },
  {
   "cell_type": "markdown",
   "metadata": {},
   "source": [
    "Here 'Android', 'Google',' worldwide' are unknown words and are incorrectly tagged in the initial viterbi algorithm. However with the updated Viterbi algorithm 'Android' and 'Google' are correctly classified as Nouns though they are unknown words.\n",
    "\n",
    "Also words like '2011' are incorrectly classified with the original algorithm. Because we used rule based tagger as backoff tagger and we have rule for indicating cardinal numbers '2011' is correctly tagged as 'NUM' in the updated viterbi algorithm"
   ]
  },
  {
   "cell_type": "markdown",
   "metadata": {},
   "source": [
    " ##### 'NASA invited social media users to experience the launch of ICESAT-2 Satellite.'"
   ]
  },
  {
   "cell_type": "markdown",
   "metadata": {},
   "source": [
    "Here 'NASA', 'ICESAT-2',' Satellite' are unknown words and are incorrectly tagged in the initial viterbi algorithm. However with the updated Viterbi algorithm 'Android' and 'Google' are correctly classified as Nouns though they are unknown words.\n",
    "\n",
    "Also words like '2011' are incorrectly classified with the original algorithm. Because we used rule based tagger as backoff tagger and we have rule for indicating cardinal numbers '2011' is correctly tagged as 'NUM' in the updated viterbi algorithm"
   ]
  },
  {
   "cell_type": "code",
   "execution_count": 57,
   "metadata": {},
   "outputs": [],
   "source": [
    "# Viterbi Heuristic\n",
    "def Viterbi_updatedV2(words, train_bag = train_tagged_words):\n",
    "    state = []\n",
    "    T = list(set([pair[1] for pair in train_bag]))\n",
    "    \n",
    "    for key, word in enumerate(words):\n",
    "        #initialise list of probability column for a given observation\n",
    "        p = [] \n",
    "        for tag in T:\n",
    "            if key == 0:\n",
    "                transition_p = tags_df.loc['.', tag]\n",
    "            else:\n",
    "                transition_p = tags_df.loc[state[-1], tag]\n",
    "                \n",
    "            # compute emission and state probabilities\n",
    "            emission_p = word_given_tag(words[key], tag)[0]/word_given_tag(words[key], tag)[1]\n",
    "            state_probability = emission_p * transition_p    \n",
    "            p.append(state_probability)\n",
    "            \n",
    "        pmax = max(p)\n",
    "       \n",
    "        #Check if state probability is zero\n",
    "        if(pmax<0.001):\n",
    "            #If state probability is zero i.e if the word is unknown it updates the tag based on the brill tagger\n",
    "            state_max = brill_tagger.tag([word])[0][1]\n",
    "        else:\n",
    "            # getting state for which probability is maximum\n",
    "            state_max = T[p.index(pmax)] \n",
    "        state.append(state_max)\n",
    "    return list(zip(words, state))"
   ]
  },
  {
   "cell_type": "code",
   "execution_count": 58,
   "metadata": {},
   "outputs": [
    {
     "name": "stdout",
     "output_type": "stream",
     "text": [
      "683.4997766017914\n"
     ]
    }
   ],
   "source": [
    "# tagging the test sentences with the updated Viterbi algorithm\n",
    "start = time.time()\n",
    "updated_tagged_seq = Viterbi_updatedV2(test_tagged_words)\n",
    "end = time.time()\n",
    "difference = end-start\n",
    "#Print total time taken to train the algorithm\n",
    "print(difference)"
   ]
  },
  {
   "cell_type": "code",
   "execution_count": 56,
   "metadata": {},
   "outputs": [
    {
     "data": {
      "text/plain": [
       "0.9480314960629921"
      ]
     },
     "execution_count": 56,
     "metadata": {},
     "output_type": "execute_result"
    }
   ],
   "source": [
    "# Calculate the accuracy for the updated Viterbi algorithm\n",
    "check = [i for i, j in zip(updated_tagged_seq, test_run_base) if i == j] \n",
    "accuracy = len(check)/len(updated_tagged_seq)\n",
    "accuracy"
   ]
  },
  {
   "cell_type": "code",
   "execution_count": null,
   "metadata": {},
   "outputs": [],
   "source": []
  }
 ],
 "metadata": {
  "kernelspec": {
   "display_name": "Python 3",
   "language": "python",
   "name": "python3"
  },
  "language_info": {
   "codemirror_mode": {
    "name": "ipython",
    "version": 3
   },
   "file_extension": ".py",
   "mimetype": "text/x-python",
   "name": "python",
   "nbconvert_exporter": "python",
   "pygments_lexer": "ipython3",
   "version": "3.7.6"
  }
 },
 "nbformat": 4,
 "nbformat_minor": 2
}
